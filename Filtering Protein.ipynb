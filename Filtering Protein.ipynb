{
 "cells": [
  {
   "cell_type": "markdown",
   "id": "9e4950f8",
   "metadata": {},
   "source": [
    "## Protein Processing Filteration"
   ]
  },
  {
   "cell_type": "code",
   "execution_count": 34,
   "id": "eabe0e7a",
   "metadata": {},
   "outputs": [],
   "source": [
    "import pandas as pd\n",
    "import numpy as np "
   ]
  },
  {
   "cell_type": "markdown",
   "id": "57097764",
   "metadata": {},
   "source": [
    "### Files to read|"
   ]
  },
  {
   "cell_type": "code",
   "execution_count": 35,
   "id": "b3994744",
   "metadata": {},
   "outputs": [
    {
     "name": "stdout",
     "output_type": "stream",
     "text": [
      "  accession        entry  coverage  proteinProbability  totalPeptides  \\\n",
      "0    P63268   ACTH_MOUSE     66.22                 1.0             22   \n",
      "1    P60710   ACTB_MOUSE     70.67                 1.0             26   \n",
      "2    P63260   ACTG_MOUSE     70.67                 1.0             25   \n",
      "3    P68134   ACTS_MOUSE     66.05                 1.0             22   \n",
      "4    Q8BFZ3  ACTBL_MOUSE     42.02                 1.0             13   \n",
      "\n",
      "   uniquePeptides  razorPeptides  totalSpectralCount  uniqueSpectralCount  \\\n",
      "0               1              9                 287                    6   \n",
      "1               2             26                 349                   34   \n",
      "2               1              1                 324                    9   \n",
      "3               1              3                 267                    5   \n",
      "4               5              5                 120                   15   \n",
      "\n",
      "   razorSpectralCount  ...  uniqueIntensity  razorIntensity  \\\n",
      "0                 145  ...     6.630628e+07    2.625550e+11   \n",
      "1                 349  ...     3.169380e+09    3.543991e+11   \n",
      "2                   9  ...     1.015134e+08    1.015134e+08   \n",
      "3                  17  ...     0.000000e+00    2.944545e+09   \n",
      "4                  15  ...     2.358190e+08    2.358190e+08   \n",
      "\n",
      "                                   razorAssignedMods  \\\n",
      "0  13M(15.9949),14M(15.9949),14M(15.9949),14M(15....   \n",
      "1  10M(15.9949),10M(15.9949),12M(15.9949),12M(15....   \n",
      "2      15M(15.9949), N-term(42.0106),N-term(42.0106)   \n",
      "3  14M(15.9949), 8M(15.9949),14M(15.9949), 8M(15....   \n",
      "4                          11M(15.9949),14M(15.9949)   \n",
      "\n",
      "  indistinguishableProteins    gene length  species detectablePeptides  \\\n",
      "0                       NaN   Actg2    376    mouse                 21   \n",
      "1                       NaN    Actb    375    mouse                 23   \n",
      "2                       NaN   Actg1    375    mouse                 23   \n",
      "3                       NaN   Acta1    377    mouse                 23   \n",
      "4                       NaN  Actbl2    376    mouse                 24   \n",
      "\n",
      "   detectableLength          iBAQ  \n",
      "0               308  1.618346e+10  \n",
      "1               343  1.540866e+10  \n",
      "2               343  1.540866e+10  \n",
      "3               345  1.477620e+10  \n",
      "4               344  1.066047e+10  \n",
      "\n",
      "[5 rows x 21 columns]\n",
      "  accession       entry  coverage  proteinProbability  totalPeptides  \\\n",
      "0    P01837  IGKC_MOUSE     59.81                 1.0              6   \n",
      "1    P60710  ACTB_MOUSE     70.40                 1.0             25   \n",
      "2    P68134  ACTS_MOUSE     66.05                 1.0             21   \n",
      "3    P01864  GCAB_MOUSE     21.79                 1.0              8   \n",
      "4    P63268  ACTH_MOUSE     66.22                 1.0             21   \n",
      "\n",
      "   uniquePeptides  razorPeptides  totalSpectralCount  uniqueSpectralCount  \\\n",
      "0               6              6                  60                   60   \n",
      "1               2             25                 318                   18   \n",
      "2               1              3                 275                    6   \n",
      "3               5              8                 110                   79   \n",
      "4               1              9                 285                    4   \n",
      "\n",
      "   razorSpectralCount  ...  uniqueIntensity  razorIntensity  \\\n",
      "0                  60  ...     1.081499e+11    1.081499e+11   \n",
      "1                 318  ...     8.751807e+08    4.085176e+11   \n",
      "2                  17  ...     0.000000e+00    2.051806e+10   \n",
      "3                 110  ...     6.885315e+10    2.061569e+11   \n",
      "4                 134  ...     5.646452e+07    2.372560e+11   \n",
      "\n",
      "                                   razorAssignedMods  \\\n",
      "0                            6M(15.9949),6M(15.9949)   \n",
      "1  10M(15.9949),10M(15.9949),12M(15.9949),13M(15....   \n",
      "2  14M(15.9949), 8M(15.9949),14M(15.9949), 8M(15....   \n",
      "3  13M(15.9949),13M(15.9949),14M(15.9949),14M(15....   \n",
      "4  13M(15.9949),14M(15.9949),14M(15.9949),14M(15....   \n",
      "\n",
      "  indistinguishableProteins   gene length  species detectablePeptides  \\\n",
      "0                       NaN   Igkc    107    mouse                  5   \n",
      "1                       NaN   Actb    375    mouse                 23   \n",
      "2                       NaN  Acta1    377    mouse                 23   \n",
      "3                       NaN    NaN    335    mouse                 12   \n",
      "4                       NaN  Actg2    376    mouse                 21   \n",
      "\n",
      "   detectableLength          iBAQ  \n",
      "0                53  2.162998e+10  \n",
      "1               343  1.776164e+10  \n",
      "2               345  1.772859e+10  \n",
      "3               184  1.717974e+10  \n",
      "4               308  1.632364e+10  \n",
      "\n",
      "[5 rows x 21 columns]\n",
      "<class 'pandas.core.frame.DataFrame'>\n",
      "RangeIndex: 1591 entries, 0 to 1590\n",
      "Data columns (total 21 columns):\n",
      " #   Column                     Non-Null Count  Dtype  \n",
      "---  ------                     --------------  -----  \n",
      " 0   accession                  1591 non-null   object \n",
      " 1   entry                      1591 non-null   object \n",
      " 2   coverage                   1591 non-null   float64\n",
      " 3   proteinProbability         1591 non-null   float64\n",
      " 4   totalPeptides              1591 non-null   int64  \n",
      " 5   uniquePeptides             1591 non-null   int64  \n",
      " 6   razorPeptides              1591 non-null   int64  \n",
      " 7   totalSpectralCount         1591 non-null   int64  \n",
      " 8   uniqueSpectralCount        1591 non-null   int64  \n",
      " 9   razorSpectralCount         1591 non-null   int64  \n",
      " 10  totalIntensity             1591 non-null   float64\n",
      " 11  uniqueIntensity            1591 non-null   float64\n",
      " 12  razorIntensity             1591 non-null   float64\n",
      " 13  razorAssignedMods          272 non-null    object \n",
      " 14  indistinguishableProteins  0 non-null      float64\n",
      " 15  gene                       1558 non-null   object \n",
      " 16  length                     1591 non-null   int64  \n",
      " 17  species                    1591 non-null   object \n",
      " 18  detectablePeptides         1591 non-null   int64  \n",
      " 19  detectableLength           1591 non-null   int64  \n",
      " 20  iBAQ                       1591 non-null   float64\n",
      "dtypes: float64(7), int64(9), object(5)\n",
      "memory usage: 261.1+ KB\n",
      "None\n"
     ]
    }
   ],
   "source": [
    "filesList = ['IPIgGMS2','IPMWMS2']\n",
    "# Read the control and experiment datasets\n",
    "control_data = pd.read_excel('IPIgGMS2.xls')\n",
    "experiment_data = pd.read_excel('IPMWMS2.xls')\n",
    "\n",
    "#Display first 5 rows to know if data is correctly loaded.\n",
    "print(control_data.head(5))\n",
    "print(experiment_data.head(5))\n",
    "print(control_data.info())"
   ]
  },
  {
   "cell_type": "markdown",
   "id": "221f33ad",
   "metadata": {},
   "source": [
    "## Primary Screening"
   ]
  },
  {
   "cell_type": "code",
   "execution_count": 47,
   "id": "85590e46",
   "metadata": {},
   "outputs": [
    {
     "name": "stdout",
     "output_type": "stream",
     "text": [
      "            entry  coverage  totalPeptides\n",
      "14    KV5A5_MOUSE     32.03              3\n",
      "32    CALL3_MOUSE     22.15              3\n",
      "55    KV1A1_MOUSE     14.04              2\n",
      "63    TDIF2_MOUSE      1.06              1\n",
      "99    K1C13_MOUSE     14.42              9\n",
      "...           ...       ...            ...\n",
      "1399   NFIX_MOUSE      2.25              1\n",
      "1402   RT09_MOUSE      2.82              1\n",
      "1403   LEG7_MOUSE      5.88              1\n",
      "1404  CEP41_MOUSE      3.49              1\n",
      "1405  CAZA3_MOUSE      2.34              1\n",
      "\n",
      "[258 rows x 3 columns]\n",
      "            entry  coverage  totalPeptides\n",
      "0      IGKC_MOUSE     59.81              6\n",
      "1      ACTB_MOUSE     70.40             25\n",
      "2      ACTS_MOUSE     66.05             21\n",
      "3      GCAB_MOUSE     21.79              8\n",
      "4      ACTH_MOUSE     66.22             21\n",
      "...           ...       ...            ...\n",
      "1389    COL_MOUSE      7.08              1\n",
      "1390   BST2_MOUSE      5.23              1\n",
      "1395  S10AB_MOUSE      7.14              1\n",
      "1400  UBP19_MOUSE      0.88              1\n",
      "1401   DPH5_MOUSE      3.20              1\n",
      "\n",
      "[1148 rows x 3 columns]\n"
     ]
    }
   ],
   "source": [
    "# Extract the 'entry' column from each DataFrame\n",
    "control_subset = control_data[['entry', 'coverage', 'totalPeptides']]\n",
    "experiment_subset = experiment_data[['entry', 'coverage', 'totalPeptides']]\n",
    "\n",
    "#Difference\n",
    "# Find proteins present in the experiment dataset but not in the control dataset\n",
    "missing_proteins = experiment_proteins[~experiment_subset['entry'].isin(control_subset['entry'])]\n",
    "print(missing_proteins)\n",
    "\n",
    "#Similarity \n",
    "# Finding Proteins present in Both Data Set.\n",
    "similar_proteins = experiment_proteins[experiment_subset['entry'].isin(control_subset['entry'])]\n",
    "print(similar_proteins)"
   ]
  },
  {
   "cell_type": "markdown",
   "id": "4bf398ce",
   "metadata": {},
   "source": [
    "## Saving into two new Files on sheet 1"
   ]
  },
  {
   "cell_type": "code",
   "execution_count": 48,
   "id": "a3a496cc",
   "metadata": {},
   "outputs": [
    {
     "name": "stdout",
     "output_type": "stream",
     "text": [
      "ScreenedDataDifferenceMS2.xlsx is Saved\n",
      "ScreenedDataSimilarMS2.xlsx is saved.\n"
     ]
    }
   ],
   "source": [
    "# Create a Pandas Excel writer object\n",
    "with pd.ExcelWriter('ScreenedDataDifferenceMS2.xlsx') as writer:\n",
    "    # Save the missing proteins data to the first sheet\n",
    "    missing_proteins.to_excel(writer, sheet_name='Primary Screening', index=False)\n",
    "    \n",
    "print(\"ScreenedDataDifferenceMS2.xlsx is Saved\")\n",
    "\n",
    "# Create a Pandas Excel writer object\n",
    "with pd.ExcelWriter('ScreenedDataSimilarMS2.xlsx') as writer:\n",
    "    # Save the missing proteins data to the first sheet\n",
    "    similar_proteins.to_excel(writer, sheet_name='Primary Screening', index=False)\n",
    "\n",
    "print(\"ScreenedDataSimilarMS2.xlsx is saved.\")\n",
    "    \n"
   ]
  },
  {
   "cell_type": "markdown",
   "id": "4536cc15",
   "metadata": {},
   "source": [
    "## Secondary Screening"
   ]
  },
  {
   "cell_type": "code",
   "execution_count": 49,
   "id": "785cbef0",
   "metadata": {},
   "outputs": [
    {
     "name": "stdout",
     "output_type": "stream",
     "text": [
      "           entry  coverage  totalPeptides\n",
      "196   HG2A_MOUSE     36.92             10\n",
      "412  SEP11_MOUSE     28.54             11\n",
      "179  HSP72_MOUSE     17.85             10\n",
      "103  K1C17_MOUSE     16.40             10\n",
      "ScreenedDataDifferenceMS2.xlsx is Saved\n"
     ]
    }
   ],
   "source": [
    "# Total Peptides >= 10 in missing proteins \n",
    "tPCount = missing_proteins[missing_proteins['totalPeptides'] >=10]\n",
    "missing_proteins = tPCount.sort_values(by='coverage',ascending=False)\n",
    "print(missing_proteins)\n",
    "\n",
    "#to save into new sheet of same excel file\n",
    "with pd.ExcelWriter('ScreenedDataDifferenceMS2.xlsx',engine='openpyxl', mode='a') as writer:\n",
    "    # Save the missing proteins data to the first sheet\n",
    "    missing_proteins.to_excel(writer, sheet_name='Secondary Screening', index=False)\n",
    "    \n",
    "print(\"ScreenedDataDifferenceMS2.xlsx is Saved\")"
   ]
  },
  {
   "cell_type": "code",
   "execution_count": 55,
   "id": "2509a91a",
   "metadata": {},
   "outputs": [
    {
     "name": "stderr",
     "output_type": "stream",
     "text": [
      "L:\\anaconda\\lib\\site-packages\\pandas\\core\\indexing.py:1676: SettingWithCopyWarning: \n",
      "A value is trying to be set on a copy of a slice from a DataFrame.\n",
      "Try using .loc[row_indexer,col_indexer] = value instead\n",
      "\n",
      "See the caveats in the documentation: https://pandas.pydata.org/pandas-docs/stable/user_guide/indexing.html#returning-a-view-versus-a-copy\n",
      "  self._setitem_single_column(ilocs[0], value, pi)\n"
     ]
    }
   ],
   "source": [
    "#Ratio For Similar Proteins\n",
    "similar_proteins.loc[:, 'Ratio Mw/Ipg'] = similar_proteins['totalPeptides'] *2"
   ]
  },
  {
   "cell_type": "code",
   "execution_count": null,
   "id": "776fd76e",
   "metadata": {},
   "outputs": [],
   "source": []
  }
 ],
 "metadata": {
  "kernelspec": {
   "display_name": "Python 3",
   "language": "python",
   "name": "python3"
  },
  "language_info": {
   "codemirror_mode": {
    "name": "ipython",
    "version": 3
   },
   "file_extension": ".py",
   "mimetype": "text/x-python",
   "name": "python",
   "nbconvert_exporter": "python",
   "pygments_lexer": "ipython3",
   "version": "3.8.8"
  }
 },
 "nbformat": 4,
 "nbformat_minor": 5
}
