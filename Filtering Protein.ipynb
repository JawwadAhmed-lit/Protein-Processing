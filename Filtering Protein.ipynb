{
 "cells": [
  {
   "cell_type": "markdown",
   "id": "2e987414",
   "metadata": {},
   "source": [
    "## Protein Processing Filteration"
   ]
  },
  {
   "cell_type": "code",
   "execution_count": 22,
   "id": "bfe9664a",
   "metadata": {},
   "outputs": [],
   "source": [
    "import pandas as pd\n",
    "import numpy as np \n",
    "import os\n"
   ]
  },
  {
   "cell_type": "code",
   "execution_count": 60,
   "id": "ebcf1351",
   "metadata": {},
   "outputs": [],
   "source": [
    "    # Define the path to the folder\n",
    "folder_path= 'DATASETS\\DATASET2_STOMACH'\n",
    "rootFolder = 'Dataset2 (Stomach)'\n",
    "controlFileName='IPIgGFS2.xls'\n",
    "experiFileName='IPMWFS2.xls'"
   ]
  },
  {
   "cell_type": "markdown",
   "id": "4f900851",
   "metadata": {},
   "source": [
    "### Files to read|"
   ]
  },
  {
   "cell_type": "code",
   "execution_count": 61,
   "id": "e80658ca",
   "metadata": {},
   "outputs": [
    {
     "name": "stdout",
     "output_type": "stream",
     "text": [
      "  accession       entry  coverage  proteinProbability  totalPeptides  \\\n",
      "0    P01837  IGKC_MOUSE     36.45              1.0000              3   \n",
      "1    P60710  ACTB_MOUSE     63.47              1.0000             21   \n",
      "2    Q9CQP0  RM33_MOUSE     13.85              0.9987              1   \n",
      "3    P01942   HBA_MOUSE     42.96              1.0000              6   \n",
      "4    Q9CR36  GKN1_MOUSE     29.35              1.0000              4   \n",
      "\n",
      "   uniquePeptides  razorPeptides  totalSpectralCount  uniqueSpectralCount  \\\n",
      "0               3              3                  20                   20   \n",
      "1               1             21                  93                    2   \n",
      "2               1              1                   1                    1   \n",
      "3               5              6                  25                   24   \n",
      "4               4              4                  31                   31   \n",
      "\n",
      "   razorSpectralCount  ...  uniqueIntensity  razorIntensity  \\\n",
      "0                  20  ...     6.910275e+09    6.910275e+09   \n",
      "1                  93  ...     2.027170e+06    1.928807e+10   \n",
      "2                   1  ...     3.148404e+09    3.148404e+09   \n",
      "3                  25  ...     3.954190e+09    3.954190e+09   \n",
      "4                  31  ...     4.357037e+09    4.357037e+09   \n",
      "\n",
      "                                   razorAssignedMods  \\\n",
      "0                            6M(15.9949),6M(15.9949)   \n",
      "1  10M(15.9949),12M(15.9949),14M(15.9949),14M(15....   \n",
      "2                                                NaN   \n",
      "3                                        1M(15.9949)   \n",
      "4  12M(15.9949),12M(15.9949), 3M(15.9949),3M(15.9...   \n",
      "\n",
      "  indistinguishableProteins    gene length  species detectablePeptides  \\\n",
      "0                       NaN    Igkc    107    mouse                  5   \n",
      "1                       NaN    Actb    375    mouse                 23   \n",
      "2                       NaN  Mrpl33     65    mouse                  4   \n",
      "3                       NaN     Hba    142    mouse                  8   \n",
      "4                       NaN    Gkn1    184    mouse                  9   \n",
      "\n",
      "   detectableLength          iBAQ  \n",
      "0                53  1.382055e+09  \n",
      "1               343  8.386117e+08  \n",
      "2                43  7.871011e+08  \n",
      "3               124  4.942737e+08  \n",
      "4                96  4.841152e+08  \n",
      "\n",
      "[5 rows x 21 columns]\n",
      "  accession        entry  coverage  proteinProbability  totalPeptides  \\\n",
      "0    Q80ZC9  PS1C2_MOUSE      8.21              0.5087              1   \n",
      "1    P01837   IGKC_MOUSE     59.81              1.0000              7   \n",
      "2    P01864   GCAB_MOUSE     18.51              1.0000              7   \n",
      "3    P01867  IGG2B_MOUSE     27.72              1.0000              9   \n",
      "4    P60710   ACTB_MOUSE     63.20              1.0000             22   \n",
      "\n",
      "   uniquePeptides  razorPeptides  totalSpectralCount  uniqueSpectralCount  \\\n",
      "0               1              1                   1                    1   \n",
      "1               7              7                  45                   45   \n",
      "2               6              7                  78                   56   \n",
      "3               9              9                  36                   36   \n",
      "4               1             22                  92                    1   \n",
      "\n",
      "   razorSpectralCount  ...  uniqueIntensity  razorIntensity  \\\n",
      "0                   1  ...     2.957517e+07    2.957517e+07   \n",
      "1                  45  ...     5.893487e+10    5.893487e+10   \n",
      "2                  78  ...     1.508260e+10    5.762182e+10   \n",
      "3                  36  ...     3.221886e+10    3.221886e+10   \n",
      "4                  92  ...     9.488955e+05    4.252897e+10   \n",
      "\n",
      "                                   razorAssignedMods  \\\n",
      "0                                                NaN   \n",
      "1                            6M(15.9949),6M(15.9949)   \n",
      "2  13M(15.9949),13M(15.9949),14M(15.9949),14M(15....   \n",
      "3                                        4M(15.9949)   \n",
      "4  10M(15.9949),13M(15.9949),14M(15.9949),14M(15....   \n",
      "\n",
      "  indistinguishableProteins      gene length  species detectablePeptides  \\\n",
      "0                       NaN  Psors1c2    134    mouse                  0   \n",
      "1                       NaN      Igkc    107    mouse                  5   \n",
      "2                       NaN       NaN    335    mouse                 12   \n",
      "3                       NaN    Ighg2b    404    mouse                 14   \n",
      "4                       NaN      Actb    375    mouse                 23   \n",
      "\n",
      "   detectableLength          iBAQ  \n",
      "0                 0           inf  \n",
      "1                53  1.178697e+10  \n",
      "2               184  4.801819e+09  \n",
      "3               186  2.301347e+09  \n",
      "4               343  1.849086e+09  \n",
      "\n",
      "[5 rows x 21 columns]\n"
     ]
    }
   ],
   "source": [
    "\n",
    "\n",
    "genderData = controlFileName[5:-4]\n",
    "# Define the root folder name\n",
    "\n",
    "\n",
    "# Sub Folder\n",
    "part1Folder = 'Part 1'\n",
    "part2Folder = 'Part 2'\n",
    "finalScreenData = 'Final Screen Data'\n",
    "\n",
    "part1ExclusiveFileName= f'Exclusive{genderData}.xlsx'\n",
    "part1SimilarFileName=f'Similar{genderData}.xlsx'\n",
    "\n",
    "# Define the full path to the root folder\n",
    "rootFolder_path = os.path.join(os.getcwd(), rootFolder)\n",
    "\n",
    "# Create the root folder\n",
    "os.makedirs(rootFolder_path, exist_ok=True)\n",
    "\n",
    "# Create subfolders inside the root folder\n",
    "os.makedirs(os.path.join(rootFolder_path, part1Folder), exist_ok=True)\n",
    "os.makedirs(os.path.join(rootFolder_path, part2Folder), exist_ok=True)\n",
    "os.makedirs(os.path.join(rootFolder_path, finalScreenData), exist_ok=True)\n",
    "\n",
    "\n",
    "\n",
    "# List all files in the folder\n",
    "files = os.listdir(folder_path)\n",
    "\n",
    "# Assuming you want to read the first file in the folder\n",
    "if files:\n",
    "#     file_to_read = files[0]\n",
    "\n",
    "    CONTROL_FILE= os.path.join(folder_path,controlFileName )\n",
    "    EXPERIMENT_FILE = os.path.join(folder_path, experiFileName)\n",
    "\n",
    "    CONTROL_DATA = pd.read_excel(CONTROL_FILE)\n",
    "    EXPERIMENT_DATA = pd.read_excel(EXPERIMENT_FILE)\n",
    "    print(CONTROL_DATA.head())  # Displaying the first few rows of the DataFrame\n",
    "    print(EXPERIMENT_DATA.head())\n"
   ]
  },
  {
   "cell_type": "markdown",
   "id": "c5e4063a",
   "metadata": {},
   "source": [
    "## Primary Screening For exclusive proteins"
   ]
  },
  {
   "cell_type": "code",
   "execution_count": 62,
   "id": "71fa1da8",
   "metadata": {},
   "outputs": [
    {
     "name": "stdout",
     "output_type": "stream",
     "text": [
      "            entry  coverage  totalPeptides\n",
      "188   TBB2A_MOUSE     39.78             16\n",
      "189   TBB2B_MOUSE     39.78             16\n",
      "227   GRM2B_MOUSE     31.24             10\n",
      "202    TBB6_MOUSE     27.29             12\n",
      "482   NCOA5_MOUSE     25.04             13\n",
      "620   ASTRB_MOUSE     19.65             12\n",
      "187   K2C6A_MOUSE     16.46             10\n",
      "1319  MYO1A_MOUSE     14.96             17\n",
      "1378   ERN2_MOUSE     13.39             10\n",
      "591   MYH10_MOUSE      8.45             16\n",
      "2129  AKAP9_MOUSE      8.40             29\n",
      "1921   PYR1_MOUSE      8.36             17\n",
      "2205  ITPR3_MOUSE      4.79             13\n"
     ]
    }
   ],
   "source": [
    "# Extract the 'entry' column from each DataFrame\n",
    "control_subset = CONTROL_DATA[['entry', 'coverage', 'totalPeptides']]\n",
    "experiment_subset = EXPERIMENT_DATA[['entry', 'coverage', 'totalPeptides']]\n",
    "\n",
    "#Difference\n",
    "# Find proteins present in the experiment dataset but not in the control dataset\n",
    "missing_proteins = experiment_subset[~experiment_subset['entry'].isin(control_subset['entry'])]\n",
    "\n",
    "# Total Peptides >= 10 in missing proteins \n",
    "tPCount = missing_proteins[missing_proteins['totalPeptides'] >=10]\n",
    "missing_proteins = tPCount.sort_values(by='coverage',ascending=False)\n",
    "print(missing_proteins)\n",
    "\n"
   ]
  },
  {
   "cell_type": "code",
   "execution_count": 63,
   "id": "b16678d5",
   "metadata": {},
   "outputs": [],
   "source": [
    "# Assuming 'missing_proteins' is your DataFrame\n",
    "\n",
    "def saveInFolder(dataFrame,file_name,partName):\n",
    "# Define the folder path relative to the root directory\n",
    "    rootF = os.getcwd() # Replace '/path/to/root/folder' with the actual root folder path\n",
    "    folder_path = os.path.join(rootF, rootFolder , partName)\n",
    "\n",
    "    # Define the full file path\n",
    "    file_path = os.path.join(folder_path, file_name)\n",
    "\n",
    "    # Ensure that the folder exists, if not create it\n",
    "    os.makedirs(folder_path, exist_ok=True)\n",
    "\n",
    "    # Save the DataFrame to an Excel file in the specified folder\n",
    "    dataFrame.to_excel(file_path, index=False)\n",
    "\n",
    "    print(f\"{file_name} is saved to:\", file_path)\n",
    "    \n",
    "def saveInSheet(dataFrame,file_name,partName,sheetName):\n",
    "    rootF = os.getcwd() # Replace '/path/to/root/folder' with the actual root folder path\n",
    "    folder_path = os.path.join(rootF,rootFolder , partName)\n",
    "\n",
    "    # Define the full file path\n",
    "    file_path = os.path.join(folder_path, file_name)\n",
    "\n",
    "    # Ensure that the folder exists, if not create it\n",
    "    os.makedirs(folder_path, exist_ok=True)\n",
    "\n",
    "    # Save the DataFrame to an Excel file in the specified folder\n",
    "    \n",
    "    # Check if the file exists before attempting to append data\n",
    "    if not os.path.exists(file_path):\n",
    "        # If the file doesn't exist, create it with a new ExcelWriter\n",
    "        with pd.ExcelWriter(file_path, engine='openpyxl') as writer:\n",
    "            dataFrame.to_excel(writer, sheet_name=sheetName, index=False)\n",
    "    else:\n",
    "        # If the file already exists, open it with mode='a' to append data\n",
    "        with pd.ExcelWriter(file_path, engine='openpyxl', mode='a') as writer:\n",
    "            # Save the DataFrame to the specified sheet\n",
    "            dataFrame.to_excel(writer, sheet_name=sheetName, index=False)\n",
    "\n",
    "    print(f\"{file_name} is saved.\")\n"
   ]
  },
  {
   "cell_type": "code",
   "execution_count": 64,
   "id": "90680d63",
   "metadata": {},
   "outputs": [
    {
     "name": "stdout",
     "output_type": "stream",
     "text": [
      "ExclusiveFS2.xlsx is saved to: C:\\Users\\Jawwad\\Desktop\\Zaid Bhai Research\\Dataset2 (Stomach)\\Part 1\\ExclusiveFS2.xlsx\n"
     ]
    }
   ],
   "source": [
    "saveInFolder(missing_proteins,part1ExclusiveFileName,part1Folder)\n"
   ]
  },
  {
   "cell_type": "markdown",
   "id": "2483566d",
   "metadata": {},
   "source": [
    "## Primary Screening For Similarity "
   ]
  },
  {
   "cell_type": "code",
   "execution_count": 65,
   "id": "f359ee2d",
   "metadata": {},
   "outputs": [
    {
     "name": "stdout",
     "output_type": "stream",
     "text": [
      "SimilarFS2.xlsx is saved.\n",
      "            entry  totalPeptides_experiment  totalPeptides_control  \\\n",
      "387    GPX1_MOUSE                        12                      9   \n",
      "70    K1C19_MOUSE                        29                     26   \n",
      "10     TAGL_MOUSE                        20                     21   \n",
      "1      ACTB_MOUSE                        22                     21   \n",
      "190    CBR1_MOUSE                        14                     14   \n",
      "...           ...                       ...                    ...   \n",
      "1758   ITB4_MOUSE                        12                      6   \n",
      "1938   GCN1_MOUSE                        18                      3   \n",
      "1954  MYO5B_MOUSE                        12                      2   \n",
      "1935  UGGG1_MOUSE                        11                      2   \n",
      "1030   FLNC_MOUSE                        12                     12   \n",
      "\n",
      "      coverage_experiment  coverage_control  \n",
      "387                 70.15             48.76  \n",
      "70                  66.75             53.85  \n",
      "10                  66.67             73.63  \n",
      "1                   63.20             63.47  \n",
      "190                 61.37             53.07  \n",
      "...                   ...               ...  \n",
      "1758                 8.09              4.29  \n",
      "1938                 7.30              1.24  \n",
      "1954                 7.21              0.88  \n",
      "1935                 6.96              1.48  \n",
      "1030                 4.92              4.77  \n",
      "\n",
      "[337 rows x 5 columns]\n"
     ]
    }
   ],
   "source": [
    "#Similarity \n",
    "# Finding Proteins present in Both Data Set.\n",
    "# Merge datasets based on the 'entry' column to get common entries\n",
    "common_entries = pd.merge(CONTROL_DATA, EXPERIMENT_DATA, on='entry', suffixes=('_control', '_experiment'))\n",
    "\n",
    "# Extract the 'totalPeptide' columns for common entries\n",
    "common_entries_total_peptide = common_entries[['entry', 'totalPeptides_experiment','totalPeptides_control', 'coverage_experiment','coverage_control']]\n",
    "tPCount = common_entries_total_peptide[common_entries_total_peptide['totalPeptides_experiment'] >=10]\n",
    "common_entries_filtered= tPCount.sort_values(by='coverage_experiment',ascending=False)\n",
    "\n",
    "saveInSheet(common_entries_filtered,part1SimilarFileName,part1Folder,'Primary Screening')\n",
    "print(common_entries_filtered)\n",
    "# saveInFolder(common_entries_total_peptide,'SimilarFS2.xlsx',part1Folder)\n"
   ]
  },
  {
   "cell_type": "markdown",
   "id": "c949d1f9",
   "metadata": {},
   "source": [
    "## Secondary Screening"
   ]
  },
  {
   "cell_type": "code",
   "execution_count": 66,
   "id": "43003d17",
   "metadata": {},
   "outputs": [
    {
     "name": "stdout",
     "output_type": "stream",
     "text": [
      "SimilarFS2.xlsx is saved.\n"
     ]
    }
   ],
   "source": [
    "# No MS2 and FS2 for >=5 \n",
    "#\n",
    "# # Modify the copy\n",
    "common_entries_filtered['Ratio Mw/IpG'] = common_entries_filtered['totalPeptides_experiment'] / common_entries_filtered['totalPeptides_control']\n",
    "common_entries_filtered= common_entries_filtered[['entry','Ratio Mw/IpG','totalPeptides_experiment','totalPeptides_control' ]]\n",
    "s = common_entries_filtered[common_entries_filtered['Ratio Mw/IpG'] >=2 ]\n",
    "\n",
    "# Create a Pandas Excel writer object\n",
    "saveInSheet(s,part1SimilarFileName,part1Folder,'Secondary Screening 1')\n",
    "# s = common_entries_filtered[common_entries_filtered['Ratio Mw/IpG'] >=5 ]\n",
    "# saveInSheet(s,part1SimilarFileName,part1Folder,'Secondary Screening 2')\n"
   ]
  },
  {
   "cell_type": "markdown",
   "id": "c14d4374",
   "metadata": {
    "scrolled": true
   },
   "source": [
    "## Part 2 "
   ]
  },
  {
   "cell_type": "markdown",
   "id": "985c5a48",
   "metadata": {},
   "source": [
    "### Exclusive Male vs Exclusive Female"
   ]
  },
  {
   "cell_type": "code",
   "execution_count": 110,
   "id": "00762b4b",
   "metadata": {},
   "outputs": [
    {
     "name": "stdout",
     "output_type": "stream",
     "text": [
      "         entry  coverage  totalPeptides\n",
      "0  TBA1C_MOUSE     20.27             11\n",
      "1  K1C17_MOUSE     19.17             16\n",
      "2  K2C6A_MOUSE     16.64             11\n",
      "3   SCEL_MOUSE     13.65             10\n",
      "4  MTCL1_MOUSE     13.16             26\n",
      "5  K1C14_MOUSE     13.02             12\n",
      "6  FMNL1_MOUSE      8.23             11\n",
      "7   WNK1_MOUSE      5.51             13\n",
      "8  AKAP9_MOUSE      5.06             20\n",
      "9  RN213_MOUSE      3.26             19\n"
     ]
    },
    {
     "data": {
      "text/html": [
       "<div>\n",
       "<style scoped>\n",
       "    .dataframe tbody tr th:only-of-type {\n",
       "        vertical-align: middle;\n",
       "    }\n",
       "\n",
       "    .dataframe tbody tr th {\n",
       "        vertical-align: top;\n",
       "    }\n",
       "\n",
       "    .dataframe thead th {\n",
       "        text-align: right;\n",
       "    }\n",
       "</style>\n",
       "<table border=\"1\" class=\"dataframe\">\n",
       "  <thead>\n",
       "    <tr style=\"text-align: right;\">\n",
       "      <th></th>\n",
       "      <th>entry</th>\n",
       "      <th>coverage</th>\n",
       "      <th>totalPeptides</th>\n",
       "    </tr>\n",
       "  </thead>\n",
       "  <tbody>\n",
       "    <tr>\n",
       "      <th>0</th>\n",
       "      <td>ACTB_MOUSE</td>\n",
       "      <td>77.07</td>\n",
       "      <td>23</td>\n",
       "    </tr>\n",
       "    <tr>\n",
       "      <th>1</th>\n",
       "      <td>ACTG_MOUSE</td>\n",
       "      <td>77.07</td>\n",
       "      <td>23</td>\n",
       "    </tr>\n",
       "    <tr>\n",
       "      <th>2</th>\n",
       "      <td>CAZA2_MOUSE</td>\n",
       "      <td>73.78</td>\n",
       "      <td>13</td>\n",
       "    </tr>\n",
       "    <tr>\n",
       "      <th>3</th>\n",
       "      <td>ALDOA_MOUSE</td>\n",
       "      <td>73.35</td>\n",
       "      <td>17</td>\n",
       "    </tr>\n",
       "    <tr>\n",
       "      <th>4</th>\n",
       "      <td>CAH1_MOUSE</td>\n",
       "      <td>72.03</td>\n",
       "      <td>11</td>\n",
       "    </tr>\n",
       "    <tr>\n",
       "      <th>...</th>\n",
       "      <td>...</td>\n",
       "      <td>...</td>\n",
       "      <td>...</td>\n",
       "    </tr>\n",
       "    <tr>\n",
       "      <th>254</th>\n",
       "      <td>CO5_MOUSE</td>\n",
       "      <td>7.32</td>\n",
       "      <td>10</td>\n",
       "    </tr>\n",
       "    <tr>\n",
       "      <th>255</th>\n",
       "      <td>LAMB1_MOUSE</td>\n",
       "      <td>5.88</td>\n",
       "      <td>10</td>\n",
       "    </tr>\n",
       "    <tr>\n",
       "      <th>256</th>\n",
       "      <td>K0754_MOUSE</td>\n",
       "      <td>5.66</td>\n",
       "      <td>15</td>\n",
       "    </tr>\n",
       "    <tr>\n",
       "      <th>257</th>\n",
       "      <td>TLN2_MOUSE</td>\n",
       "      <td>4.93</td>\n",
       "      <td>11</td>\n",
       "    </tr>\n",
       "    <tr>\n",
       "      <th>258</th>\n",
       "      <td>RN213_MOUSE</td>\n",
       "      <td>2.39</td>\n",
       "      <td>11</td>\n",
       "    </tr>\n",
       "  </tbody>\n",
       "</table>\n",
       "<p>259 rows × 3 columns</p>\n",
       "</div>"
      ],
      "text/plain": [
       "           entry  coverage  totalPeptides\n",
       "0     ACTB_MOUSE     77.07             23\n",
       "1     ACTG_MOUSE     77.07             23\n",
       "2    CAZA2_MOUSE     73.78             13\n",
       "3    ALDOA_MOUSE     73.35             17\n",
       "4     CAH1_MOUSE     72.03             11\n",
       "..           ...       ...            ...\n",
       "254    CO5_MOUSE      7.32             10\n",
       "255  LAMB1_MOUSE      5.88             10\n",
       "256  K0754_MOUSE      5.66             15\n",
       "257   TLN2_MOUSE      4.93             11\n",
       "258  RN213_MOUSE      2.39             11\n",
       "\n",
       "[259 rows x 3 columns]"
      ]
     },
     "execution_count": 110,
     "metadata": {},
     "output_type": "execute_result"
    }
   ],
   "source": [
    "# folderpath , part1ExclusiveFileName, part1SimilarName\n",
    "# SIMILAR_FILE= os.path.join(rootFolder,part1Folder,'Exclusive' )\n",
    "EXCLUSIVE_FILE = os.path.join(rootFolder,part1Folder, 'Exclusive')\n",
    "\n",
    "exclusiveMale = pd.read_excel(f'{EXCLUSIVE_FILE}ML2.xlsx')\n",
    "exclusiveFemale = pd.read_excel(f'{EXCLUSIVE_FILE}FL2.xlsx')\n",
    "\n",
    "print(exclusiveMale)\n",
    "exclusiveFemale"
   ]
  },
  {
   "cell_type": "code",
   "execution_count": 111,
   "id": "d7dc5097",
   "metadata": {},
   "outputs": [
    {
     "name": "stdout",
     "output_type": "stream",
     "text": [
      "         entry  coverage  totalPeptides\n",
      "1  K1C17_MOUSE     19.17             16\n",
      "2  K2C6A_MOUSE     16.64             11\n",
      "3   SCEL_MOUSE     13.65             10\n",
      "4  MTCL1_MOUSE     13.16             26\n",
      "5  K1C14_MOUSE     13.02             12\n",
      "6  FMNL1_MOUSE      8.23             11\n",
      "7   WNK1_MOUSE      5.51             13\n",
      "8  AKAP9_MOUSE      5.06             20\n",
      "           entry  coverage  totalPeptides\n",
      "0     ACTB_MOUSE     77.07             23\n",
      "1     ACTG_MOUSE     77.07             23\n",
      "2    CAZA2_MOUSE     73.78             13\n",
      "3    ALDOA_MOUSE     73.35             17\n",
      "4     CAH1_MOUSE     72.03             11\n",
      "..           ...       ...            ...\n",
      "253   ANK1_MOUSE      8.27             10\n",
      "254    CO5_MOUSE      7.32             10\n",
      "255  LAMB1_MOUSE      5.88             10\n",
      "256  K0754_MOUSE      5.66             15\n",
      "257   TLN2_MOUSE      4.93             11\n",
      "\n",
      "[257 rows x 3 columns]\n",
      "Empty DataFrame\n",
      "Columns: [entry, coverage_control, totalPeptides_control, coverage_experiment, totalPeptides_experiment]\n",
      "Index: []\n",
      "FinalExclusiveL2.xlsx is saved to: C:\\Users\\Jawwad\\Desktop\\Zaid Bhai Research\\Dataset2 (Lung)\\Part 2\\FinalExclusiveL2.xlsx\n"
     ]
    }
   ],
   "source": [
    "onlyMale = exclusiveMale[~exclusiveMale['entry'].isin(exclusiveFemale['entry'])]\n",
    "print(onlyMale)\n",
    "onlyFemale = exclusiveFemale[~exclusiveFemale['entry'].isin(exclusiveMale['entry'])]\n",
    "print(onlyFemale)\n",
    "common_entries = pd.merge(onlyMale, onlyFemale, on='entry', suffixes=('_control', '_experiment'))\n",
    "print(common_entries)\n",
    "# Protein Present Male  [exlusive] |TC | Common |\n",
    "# TC | Protein Present Present in Female only |TC\n",
    "finalPd = pd.DataFrame({'Protein Present Male Only':onlyMale['entry'],'totalPeptide-M':onlyMale['totalPeptides'],'Common':common_entries['entry'],\n",
    "                        'totalPeptides-Common':common_entries['totalPeptides_experiment'],\n",
    "                        'Protein Present Present in Female only':onlyFemale['entry'],\n",
    "                       'totalPeptide-F':onlyFemale['totalPeptides']})\n",
    "finalPd\n",
    "saveInFolder(finalPd,'FinalExclusiveL2.xlsx',part2Folder)"
   ]
  },
  {
   "cell_type": "markdown",
   "id": "ef35f37b",
   "metadata": {},
   "source": [
    "### Similar Male vs Similar Female"
   ]
  },
  {
   "cell_type": "code",
   "execution_count": 5,
   "id": "e12cba6b",
   "metadata": {},
   "outputs": [
    {
     "name": "stdout",
     "output_type": "stream",
     "text": [
      "           entry  Ratio Mw/IpG\n",
      "0      HBA_MOUSE      2.000000\n",
      "1     SBP1_MOUSE      3.100000\n",
      "2    PRDX6_MOUSE      2.714286\n",
      "3    K1C19_MOUSE      2.076923\n",
      "4     HBB1_MOUSE      2.000000\n",
      "..           ...           ...\n",
      "217   ITB1_MOUSE      6.500000\n",
      "218   CO4B_MOUSE      8.000000\n",
      "219   PGBM_MOUSE     14.000000\n",
      "220   PEPL_MOUSE     15.000000\n",
      "221  SC31A_MOUSE     11.000000\n",
      "\n",
      "[222 rows x 2 columns]\n",
      "         entry  Ratio Mw/IpG\n",
      "0   LMNA_MOUSE      3.142857\n",
      "1   KINH_MOUSE      4.333333\n",
      "2   DESP_MOUSE     11.333333\n",
      "3  MYH14_MOUSE      3.666667\n"
     ]
    }
   ],
   "source": [
    "\n",
    "SIMILAR_FILE= os.path.join(rootFolder,part1Folder,'Similar' )\n",
    "similar_male = pd.read_excel(f'{SIMILAR_FILE}ML2.xlsx',sheet_name='Secondary Screening')\n",
    "similar_female = pd.read_excel(f'{SIMILAR_FILE}FL2.xlsx',sheet_name='Secondary Screening')\n",
    "print(similar_female)\n",
    "print(similar_male)"
   ]
  },
  {
   "cell_type": "code",
   "execution_count": 113,
   "id": "4879ae44",
   "metadata": {},
   "outputs": [
    {
     "name": "stdout",
     "output_type": "stream",
     "text": [
      "FinalSimilarL2.xlsx is saved to: C:\\Users\\Jawwad\\Desktop\\Zaid Bhai Research\\Dataset2 (Lung)\\Part 2\\FinalSimilarL2.xlsx\n"
     ]
    }
   ],
   "source": [
    "onlyMale = similar_male[~similar_male['entry'].isin(similar_female['entry'])]\n",
    "\n",
    "onlyFemale = similar_female[~similar_female['entry'].isin(similar_male['entry'])]\n",
    "\n",
    "common_m_f = pd.merge(onlyMale, onlyFemale, on='entry', suffixes=('_m', '_f'))\n",
    "\n",
    "# Protein Present Male  [exlusive] |TC | Common |\n",
    "# TC | Protein Present Present in Female only |TC\n",
    "finalPd = pd.DataFrame({\n",
    "    'Protein Present Male Only': onlyMale['entry'],\n",
    "    'totalPeptide-M': onlyMale['totalPeptides_experiment'],\n",
    "    'Common': common_m_f['entry'],\n",
    "    'totalPeptides-Common': common_m_f['totalPeptides_experiment_m'],\n",
    "    'Protein Present Present in Female only': onlyFemale['entry'],\n",
    "    'totalPeptide-F': onlyFemale['totalPeptides_experiment']\n",
    "})\n",
    "df = finalPd.dropna(subset=['Protein Present Male Only','Protein Present Present in Female only'])\n",
    "\n",
    "# After dropping rows with missing values, you might want to reset the index\n",
    "finalPd = df.reset_index(drop=True)\n",
    "finalPd\n",
    "saveInFolder(finalPd,'FinalSimilarL2.xlsx',part2Folder)"
   ]
  },
  {
   "cell_type": "markdown",
   "id": "07f50b0f",
   "metadata": {},
   "source": [
    "Notes:\n",
    "1)Sheet 1 : Primary Screening : -\n",
    "- Exclusive for difference Proteins Present in MWML2 | Total Peptide  :\n",
    "- \n",
    "- Similar Experiment group TotalPeptide count >= 10: refine\n",
    "- One file for  Present in both IgG/Mw | Ratio  \n",
    "- file name  e.g : will be Similar ML2 and Exclusive ML2\n",
    "- Coverage column needs to be there\n",
    "\n",
    "2) Sheet 2 : Secondary Screening :\n",
    "- male and female data comparasion . similar with similar and exlusive with exclusive .\n",
    "- Protein Present Male  [exlusive] | Common | Protein Present Present in Female only \n",
    "- No totalPeptide\n",
    "- Folder Name : Dataset 2 (lung) \n",
    "    - Part 1 \n",
    "    - Part 2 \n",
    "    - Final Screen Data \n",
    "- Dataset (Stomach)\n",
    "- Dataset 2 (Stomach) \n",
    "\n"
   ]
  },
  {
   "cell_type": "markdown",
   "id": "446d2c7c",
   "metadata": {},
   "source": [
    "## Secondary Screening "
   ]
  },
  {
   "cell_type": "code",
   "execution_count": null,
   "id": "58026a07",
   "metadata": {},
   "outputs": [],
   "source": []
  }
 ],
 "metadata": {
  "kernelspec": {
   "display_name": "Python 3",
   "language": "python",
   "name": "python3"
  },
  "language_info": {
   "codemirror_mode": {
    "name": "ipython",
    "version": 3
   },
   "file_extension": ".py",
   "mimetype": "text/x-python",
   "name": "python",
   "nbconvert_exporter": "python",
   "pygments_lexer": "ipython3",
   "version": "3.8.8"
  }
 },
 "nbformat": 4,
 "nbformat_minor": 5
}
