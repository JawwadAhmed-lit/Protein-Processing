{
 "cells": [
  {
   "cell_type": "markdown",
   "id": "2e987414",
   "metadata": {},
   "source": [
    "## Protein Processing Filteration"
   ]
  },
  {
   "cell_type": "code",
   "execution_count": 175,
   "id": "bfe9664a",
   "metadata": {},
   "outputs": [],
   "source": [
    "import pandas as pd\n",
    "import numpy as np \n",
    "import os\n"
   ]
  },
  {
   "cell_type": "markdown",
   "id": "4f900851",
   "metadata": {},
   "source": [
    "### Files to read|"
   ]
  },
  {
   "cell_type": "code",
   "execution_count": 176,
   "id": "e80658ca",
   "metadata": {},
   "outputs": [],
   "source": [
    "filesList = ['IPIgGMS2','IPMWMS2']\n",
    "\n",
    "# Folder Creation \n",
    "rootFolder = 'Dataset2 ( Stomach )'\n",
    "os.makedirs(rootFolder)\n",
    "# Sub Folder\n",
    "part1Folder = 'Part 1'\n",
    "part2Folder = 'Part 2'\n",
    "finalScreenData = 'Final Screen Data'\n",
    "os.makedirs(os.path.join(rootFolder, part1Folder))\n",
    "os.makedirs(os.path.join(rootFolder, part2Folder))\n",
    "os.makedirs(os.path.join(rootFolder, finalScreenData))\n",
    "\n"
   ]
  },
  {
   "cell_type": "markdown",
   "id": "d732d01f",
   "metadata": {},
   "source": [
    "## Common:"
   ]
  },
  {
   "cell_type": "code",
   "execution_count": 177,
   "id": "bc752aa9",
   "metadata": {},
   "outputs": [
    {
     "name": "stdout",
     "output_type": "stream",
     "text": [
      "reading female specimen\n",
      "  accession       entry  coverage  proteinProbability  totalPeptides  \\\n",
      "0    P01837  IGKC_MOUSE     36.45              1.0000              3   \n",
      "1    P60710  ACTB_MOUSE     63.47              1.0000             21   \n",
      "2    Q9CQP0  RM33_MOUSE     13.85              0.9987              1   \n",
      "3    P01942   HBA_MOUSE     42.96              1.0000              6   \n",
      "4    Q9CR36  GKN1_MOUSE     29.35              1.0000              4   \n",
      "\n",
      "   uniquePeptides  razorPeptides  totalSpectralCount  uniqueSpectralCount  \\\n",
      "0               3              3                  20                   20   \n",
      "1               1             21                  93                    2   \n",
      "2               1              1                   1                    1   \n",
      "3               5              6                  25                   24   \n",
      "4               4              4                  31                   31   \n",
      "\n",
      "   razorSpectralCount  ...  uniqueIntensity  razorIntensity  \\\n",
      "0                  20  ...     6.910275e+09    6.910275e+09   \n",
      "1                  93  ...     2.027170e+06    1.928807e+10   \n",
      "2                   1  ...     3.148404e+09    3.148404e+09   \n",
      "3                  25  ...     3.954190e+09    3.954190e+09   \n",
      "4                  31  ...     4.357037e+09    4.357037e+09   \n",
      "\n",
      "                                   razorAssignedMods  \\\n",
      "0                            6M(15.9949),6M(15.9949)   \n",
      "1  10M(15.9949),12M(15.9949),14M(15.9949),14M(15....   \n",
      "2                                                NaN   \n",
      "3                                        1M(15.9949)   \n",
      "4  12M(15.9949),12M(15.9949), 3M(15.9949),3M(15.9...   \n",
      "\n",
      "  indistinguishableProteins    gene length  species detectablePeptides  \\\n",
      "0                       NaN    Igkc    107    mouse                  5   \n",
      "1                       NaN    Actb    375    mouse                 23   \n",
      "2                       NaN  Mrpl33     65    mouse                  4   \n",
      "3                       NaN     Hba    142    mouse                  8   \n",
      "4                       NaN    Gkn1    184    mouse                  9   \n",
      "\n",
      "   detectableLength          iBAQ  \n",
      "0                53  1.382055e+09  \n",
      "1               343  8.386117e+08  \n",
      "2                43  7.871011e+08  \n",
      "3               124  4.942737e+08  \n",
      "4                96  4.841152e+08  \n",
      "\n",
      "[5 rows x 21 columns]\n",
      "  accession        entry  coverage  proteinProbability  totalPeptides  \\\n",
      "0    Q80ZC9  PS1C2_MOUSE      8.21              0.5087              1   \n",
      "1    P01837   IGKC_MOUSE     59.81              1.0000              7   \n",
      "2    P01864   GCAB_MOUSE     18.51              1.0000              7   \n",
      "3    P01867  IGG2B_MOUSE     27.72              1.0000              9   \n",
      "4    P60710   ACTB_MOUSE     63.20              1.0000             22   \n",
      "\n",
      "   uniquePeptides  razorPeptides  totalSpectralCount  uniqueSpectralCount  \\\n",
      "0               1              1                   1                    1   \n",
      "1               7              7                  45                   45   \n",
      "2               6              7                  78                   56   \n",
      "3               9              9                  36                   36   \n",
      "4               1             22                  92                    1   \n",
      "\n",
      "   razorSpectralCount  ...  uniqueIntensity  razorIntensity  \\\n",
      "0                   1  ...     2.957517e+07    2.957517e+07   \n",
      "1                  45  ...     5.893487e+10    5.893487e+10   \n",
      "2                  78  ...     1.508260e+10    5.762182e+10   \n",
      "3                  36  ...     3.221886e+10    3.221886e+10   \n",
      "4                  92  ...     9.488955e+05    4.252897e+10   \n",
      "\n",
      "                                   razorAssignedMods  \\\n",
      "0                                                NaN   \n",
      "1                            6M(15.9949),6M(15.9949)   \n",
      "2  13M(15.9949),13M(15.9949),14M(15.9949),14M(15....   \n",
      "3                                        4M(15.9949)   \n",
      "4  10M(15.9949),13M(15.9949),14M(15.9949),14M(15....   \n",
      "\n",
      "  indistinguishableProteins      gene length  species detectablePeptides  \\\n",
      "0                       NaN  Psors1c2    134    mouse                  0   \n",
      "1                       NaN      Igkc    107    mouse                  5   \n",
      "2                       NaN       NaN    335    mouse                 12   \n",
      "3                       NaN    Ighg2b    404    mouse                 14   \n",
      "4                       NaN      Actb    375    mouse                 23   \n",
      "\n",
      "   detectableLength          iBAQ  \n",
      "0                 0           inf  \n",
      "1                53  1.178697e+10  \n",
      "2               184  4.801819e+09  \n",
      "3               186  2.301347e+09  \n",
      "4               343  1.849086e+09  \n",
      "\n",
      "[5 rows x 21 columns]\n"
     ]
    }
   ],
   "source": [
    "# Define the path to the folder\n",
    "folder_path = 'DATASETS/DATASET2_STOMACH'\n",
    "\n",
    "# List all files in the folder\n",
    "files = os.listdir(folder_path)\n",
    "\n",
    "# Assuming you want to read the first file in the folder\n",
    "if files:\n",
    "#     file_to_read = files[0]\n",
    "    print('reading female specimen')\n",
    "    CONTROL_FILE= os.path.join(folder_path, 'IPIgGFS2.xls')\n",
    "    EXPERIMENT_FILE = os.path.join(folder_path, 'IPMWFS2.xls')\n",
    "    CONTROL_DATA = pd.read_excel(CONTROL_FILE)\n",
    "    EXPERIMENT_DATA = pd.read_excel(EXPERIMENT_FILE)\n",
    "    print(CONTROL_DATA.head())  # Displaying the first few rows of the DataFrame\n",
    "    print(EXPERIMENT_DATA.head())"
   ]
  },
  {
   "cell_type": "markdown",
   "id": "c5e4063a",
   "metadata": {},
   "source": [
    "## Primary Screening For exclusive proteins"
   ]
  },
  {
   "cell_type": "code",
   "execution_count": 178,
   "id": "71fa1da8",
   "metadata": {},
   "outputs": [
    {
     "name": "stdout",
     "output_type": "stream",
     "text": [
      "            entry  coverage  totalPeptides\n",
      "188   TBB2A_MOUSE     39.78             16\n",
      "189   TBB2B_MOUSE     39.78             16\n",
      "227   GRM2B_MOUSE     31.24             10\n",
      "202    TBB6_MOUSE     27.29             12\n",
      "482   NCOA5_MOUSE     25.04             13\n",
      "620   ASTRB_MOUSE     19.65             12\n",
      "187   K2C6A_MOUSE     16.46             10\n",
      "1319  MYO1A_MOUSE     14.96             17\n",
      "1378   ERN2_MOUSE     13.39             10\n",
      "591   MYH10_MOUSE      8.45             16\n",
      "2129  AKAP9_MOUSE      8.40             29\n",
      "1921   PYR1_MOUSE      8.36             17\n",
      "2205  ITPR3_MOUSE      4.79             13\n"
     ]
    }
   ],
   "source": [
    "# Extract the 'entry' column from each DataFrame\n",
    "control_subset = CONTROL_DATA[['entry', 'coverage', 'totalPeptides']]\n",
    "experiment_subset = EXPERIMENT_DATA[['entry', 'coverage', 'totalPeptides']]\n",
    "\n",
    "#Difference\n",
    "# Find proteins present in the experiment dataset but not in the control dataset\n",
    "missing_proteins = experiment_subset[~experiment_subset['entry'].isin(control_subset['entry'])]\n",
    "\n",
    "# Total Peptides >= 10 in missing proteins \n",
    "tPCount = missing_proteins[missing_proteins['totalPeptides'] >=10]\n",
    "missing_proteins = tPCount.sort_values(by='coverage',ascending=False)\n",
    "print(missing_proteins)\n",
    "\n"
   ]
  },
  {
   "cell_type": "code",
   "execution_count": 198,
   "id": "b16678d5",
   "metadata": {},
   "outputs": [],
   "source": [
    "# Assuming 'missing_proteins' is your DataFrame\n",
    "def saveInFolder(dataFrame,fileName,partName):\n",
    "# Define the folder path relative to the root directory\n",
    "    rootF = os.getcwd() # Replace '/path/to/root/folder' with the actual root folder path\n",
    "    folder_path = os.path.join(rootF, rootFolder , partName)\n",
    "\n",
    "    # Define the full file path\n",
    "    file_path = os.path.join(folder_path, file_name)\n",
    "\n",
    "    # Ensure that the folder exists, if not create it\n",
    "    os.makedirs(folder_path, exist_ok=True)\n",
    "\n",
    "    # Save the DataFrame to an Excel file in the specified folder\n",
    "    dataFrame.to_excel(file_path, index=False)\n",
    "\n",
    "    print(f\"{fileName} is saved to:\", file_path)\n"
   ]
  },
  {
   "cell_type": "code",
   "execution_count": null,
   "id": "67bd7244",
   "metadata": {},
   "outputs": [],
   "source": [
    "saveInFolder(missing_proteins,'ExclusiveFS2',rootFolder,part1Folder)"
   ]
  },
  {
   "cell_type": "markdown",
   "id": "2483566d",
   "metadata": {},
   "source": [
    "## Primary Screening For Similarity "
   ]
  },
  {
   "cell_type": "code",
   "execution_count": 200,
   "id": "f359ee2d",
   "metadata": {},
   "outputs": [
    {
     "name": "stdout",
     "output_type": "stream",
     "text": [
      "            entry  totalPeptides_control  totalPeptides_experiment\n",
      "0      IGKC_MOUSE                      3                         7\n",
      "1      ACTB_MOUSE                     21                        22\n",
      "2      RM33_MOUSE                      1                         1\n",
      "3       HBA_MOUSE                      6                         6\n",
      "4      GKN1_MOUSE                      4                         4\n",
      "...           ...                    ...                       ...\n",
      "2031   RET7_MOUSE                      1                         1\n",
      "2032   NU1M_MOUSE                      1                         1\n",
      "2033   PTTG_MOUSE                      1                         1\n",
      "2034   IF3M_MOUSE                      1                         1\n",
      "2035  ASGL1_MOUSE                      1                         1\n",
      "\n",
      "[2036 rows x 3 columns]\n",
      "test21 is saved to: C:\\Users\\Jawwad\\Desktop\\Zaid Bhai Research\\Dataset2 ( Stomach )\\Part 1\\ExclusiveFS2.xlsx\n"
     ]
    }
   ],
   "source": [
    "\n",
    "# Merge datasets based on the 'entry' column to get common entries\n",
    "common_entries = pd.merge(CONTROL_DATA, EXPERIMENT_DATA, on='entry', suffixes=('_control', '_experiment'))\n",
    "\n",
    "# Extract the 'totalPeptide' columns for common entries\n",
    "common_entries_total_peptide = common_entries[['entry', 'totalPeptides_control', 'totalPeptides_experiment']]\n",
    "print(common_entries_total_peptide)\n",
    "saveInFolder(common_entries_total_peptide,'test21',part1Folder)\n",
    "# #Similarity \n",
    "# # Finding Proteins present in Both Data Set.\n",
    "# similar_proteins = experiment_subset[experiment_subset['entry'].isin(control_subset['entry'])]\n",
    "\n",
    "# print(similar_proteins)\n",
    "# similar_proteins2 = control_subset[control_subset['entry'].isin(experiment_subset['entry'])]\n",
    "# print(similar_proteins2)\n",
    "\n",
    "# # newFrame = pd.DataFrame(columns=['Control_Entry','Coverage','totalPeptides', 'Experiment_Entry','Coverage','totalPeptides'])\n",
    "# # newFrame"
   ]
  },
  {
   "cell_type": "code",
   "execution_count": 181,
   "id": "1576aa91",
   "metadata": {},
   "outputs": [
    {
     "name": "stdout",
     "output_type": "stream",
     "text": [
      "     Control_Entry  C-coverage  C-totalPeptides\n",
      "1       ACTB_MOUSE       63.47               21\n",
      "10      TAGL_MOUSE       73.63               21\n",
      "16     NUCB1_MOUSE       24.18               10\n",
      "26      ALBU_MOUSE       32.24               20\n",
      "45     GSTO1_MOUSE       42.92               13\n",
      "...            ...         ...              ...\n",
      "1666   MYO1D_MOUSE       11.33               10\n",
      "1751    PLEC_MOUSE       14.30               64\n",
      "1848    DESP_MOUSE       10.65               31\n",
      "1898   MY18A_MOUSE        6.63               12\n",
      "2048   DYHC1_MOUSE        3.21               13\n",
      "\n",
      "[250 rows x 3 columns]\n",
      "     Experiment_Entry  E-coverage  E-totalPeptides\n",
      "336        GPX1_MOUSE       70.15               12\n",
      "54        K1C19_MOUSE       66.75               29\n",
      "29         TAGL_MOUSE       66.67               20\n",
      "4          ACTB_MOUSE       63.20               22\n",
      "240        CBR1_MOUSE       61.37               14\n",
      "...               ...         ...              ...\n",
      "1874       ITB4_MOUSE        8.09               12\n",
      "2198       GCN1_MOUSE        7.30               18\n",
      "2060      MYO5B_MOUSE        7.21               12\n",
      "2046      UGGG1_MOUSE        6.96               11\n",
      "1046       FLNC_MOUSE        4.92               12\n",
      "\n",
      "[337 rows x 3 columns]\n"
     ]
    }
   ],
   "source": [
    "# Assuming similar_proteins2 contains control data and similar_proteins contains experiment data\n",
    "\n",
    "# Rename columns of similar_proteins2 (control data)\n",
    "\n",
    "similar_proteins2_renamed = similar_proteins2.rename(columns={\n",
    "    'entry': 'Control_Entry',\n",
    "    'coverage': 'C-coverage',\n",
    "    'totalPeptides': 'C-totalPeptides'\n",
    "})\n",
    "\n",
    "# Rename columns of similar_proteins (experiment data)\n",
    "similar_proteins_renamed = similar_proteins.rename(columns={\n",
    "    'entry': 'Experiment_Entry',\n",
    "    'coverage': 'E-coverage',\n",
    "    'totalPeptides': 'E-totalPeptides'\n",
    "})\n",
    "similar_proteins = similar_proteins_renamed.sort_values(by='Experiment_Entry',ascending=True)\n",
    "\n",
    "similar_proteins2 = similar_proteins2_renamed.sort_values(by='Control_Entry',ascending=True)\n",
    "\n",
    "tPCount = similar_proteins2_renamed[similar_proteins2_renamed['C-totalPeptides'] >=10]\n",
    "similar_proteins2 = tPCount\n",
    "print(similar_proteins2)\n",
    "\n",
    "tPCount = similar_proteins_renamed[similar_proteins_renamed['E-totalPeptides'] >=10]\n",
    "similar_proteins = tPCount.sort_values(by='E-coverage',ascending=False)\n",
    "print(similar_proteins)\n",
    "\n"
   ]
  },
  {
   "cell_type": "code",
   "execution_count": 182,
   "id": "27f2de85",
   "metadata": {},
   "outputs": [
    {
     "name": "stdout",
     "output_type": "stream",
     "text": [
      "     Control_Entry  C-coverage  C-totalPeptides Experiment_Entry  E-coverage  \\\n",
      "1       ACTB_MOUSE       63.47             21.0              NaN         NaN   \n",
      "4              NaN         NaN              NaN       ACTB_MOUSE       63.20   \n",
      "10      TAGL_MOUSE       73.63             21.0              NaN         NaN   \n",
      "11             NaN         NaN              NaN      ACTBL_MOUSE       28.99   \n",
      "16     NUCB1_MOUSE       24.18             10.0              NaN         NaN   \n",
      "...            ...         ...              ...              ...         ...   \n",
      "2046           NaN         NaN              NaN      UGGG1_MOUSE        6.96   \n",
      "2048   DYHC1_MOUSE        3.21             13.0              NaN         NaN   \n",
      "2060           NaN         NaN              NaN      MYO5B_MOUSE        7.21   \n",
      "2062           NaN         NaN              NaN      EPIPL_MOUSE       16.13   \n",
      "2198           NaN         NaN              NaN       GCN1_MOUSE        7.30   \n",
      "\n",
      "      E-totalPeptides  \n",
      "1                 NaN  \n",
      "4                22.0  \n",
      "10                NaN  \n",
      "11               10.0  \n",
      "16                NaN  \n",
      "...               ...  \n",
      "2046             11.0  \n",
      "2048              NaN  \n",
      "2060             12.0  \n",
      "2062             11.0  \n",
      "2198             18.0  \n",
      "\n",
      "[534 rows x 6 columns]\n"
     ]
    }
   ],
   "source": [
    "# to rewrite:\n",
    "\n",
    "# Concatenate control and experiment data side by side\n",
    "combined_data = pd.concat([similar_proteins2, similar_proteins], axis=1)\n",
    "print(combined_data)\n",
    "# Create a Pandas Excel writer object\n",
    "\n"
   ]
  },
  {
   "cell_type": "code",
   "execution_count": 183,
   "id": "a8b5df1f",
   "metadata": {},
   "outputs": [
    {
     "name": "stdout",
     "output_type": "stream",
     "text": [
      "SimilarFS2.xlsx is saved.\n"
     ]
    }
   ],
   "source": [
    "def saveInSheet(dataFrame,file_name,partName,sheetName):\n",
    "    root_folder = os.getcwd() # Replace '/path/to/root/folder' with the actual root folder path\n",
    "    folder_path = os.path.join(root_folder, 'Dataset2 ( Stomach )', partName)\n",
    "\n",
    "    # Define the full file path\n",
    "    file_path = os.path.join(folder_path, file_name)\n",
    "\n",
    "    # Ensure that the folder exists, if not create it\n",
    "    os.makedirs(folder_path, exist_ok=True)\n",
    "\n",
    "    # Save the DataFrame to an Excel file in the specified folder\n",
    "    \n",
    "    with pd.ExcelWriter(file_name) as writer:\n",
    "        # Save the missing proteins data to the first sheet\n",
    "        dataFrame.to_excel(file_path, sheet_name=sheetName, index=False)\n",
    "\n",
    "    print(f\"{file_name} is saved.\")\n",
    "saveInSheet(combined_data,'SimilarFS2.xlsx',part1Folder,'Primary Screening')"
   ]
  },
  {
   "cell_type": "markdown",
   "id": "c949d1f9",
   "metadata": {},
   "source": [
    "## Saving into two new Files on sheet 1"
   ]
  },
  {
   "cell_type": "code",
   "execution_count": 185,
   "id": "43003d17",
   "metadata": {},
   "outputs": [
    {
     "name": "stdout",
     "output_type": "stream",
     "text": [
      "SimilarFS2.xlsx is saved.\n"
     ]
    }
   ],
   "source": [
    "similar_proteins = experiment_subset[experiment_subset['entry'].isin(control_subset['entry'])]\n",
    "tPCount = similar_proteins[similar_proteins['totalPeptides'] >=10]\n",
    "simi = tPCount.sort_values(by='coverage',ascending=False)\n",
    "similar_proteins_copy = simi.copy()\n",
    "\n",
    "\n",
    "# # Modify the copy\n",
    "similar_proteins_copy['Ratio Mw/IpG'] = experiment_subset['totalPeptides'] / control_subset['totalPeptides']\n",
    "s = similar_proteins_copy[similar_proteins_copy['Ratio Mw/IpG'] >=0.5]\n",
    "\n",
    "# Create a Pandas Excel writer object\n",
    "saveInSheet(s,'SimilarFS2.xlsx',part2Folder,'Secondary Screening')\n",
    "    \n"
   ]
  },
  {
   "cell_type": "code",
   "execution_count": null,
   "id": "aba273ba",
   "metadata": {},
   "outputs": [],
   "source": []
  },
  {
   "cell_type": "code",
   "execution_count": 97,
   "id": "c0c82cb6",
   "metadata": {
    "scrolled": true
   },
   "outputs": [
    {
     "name": "stdout",
     "output_type": "stream",
     "text": [
      "            entry  coverage  totalPeptides\n",
      "188   TBB2A_MOUSE     39.78             16\n",
      "189   TBB2B_MOUSE     39.78             16\n",
      "227   GRM2B_MOUSE     31.24             10\n",
      "202    TBB6_MOUSE     27.29             12\n",
      "482   NCOA5_MOUSE     25.04             13\n",
      "620   ASTRB_MOUSE     19.65             12\n",
      "187   K2C6A_MOUSE     16.46             10\n",
      "1319  MYO1A_MOUSE     14.96             17\n",
      "1378   ERN2_MOUSE     13.39             10\n",
      "591   MYH10_MOUSE      8.45             16\n",
      "2129  AKAP9_MOUSE      8.40             29\n",
      "1921   PYR1_MOUSE      8.36             17\n",
      "2205  ITPR3_MOUSE      4.79             13\n"
     ]
    },
    {
     "ename": "FileNotFoundError",
     "evalue": "[Errno 2] No such file or directory: 'ScreenedDataDifferenceMS2.xlsx'",
     "output_type": "error",
     "traceback": [
      "\u001b[1;31m---------------------------------------------------------------------------\u001b[0m",
      "\u001b[1;31mFileNotFoundError\u001b[0m                         Traceback (most recent call last)",
      "\u001b[1;32m<ipython-input-97-b000d5c2c805>\u001b[0m in \u001b[0;36m<module>\u001b[1;34m\u001b[0m\n\u001b[0;32m      5\u001b[0m \u001b[1;33m\u001b[0m\u001b[0m\n\u001b[0;32m      6\u001b[0m \u001b[1;31m#to save into new sheet of same excel file\u001b[0m\u001b[1;33m\u001b[0m\u001b[1;33m\u001b[0m\u001b[1;33m\u001b[0m\u001b[0m\n\u001b[1;32m----> 7\u001b[1;33m \u001b[1;32mwith\u001b[0m \u001b[0mpd\u001b[0m\u001b[1;33m.\u001b[0m\u001b[0mExcelWriter\u001b[0m\u001b[1;33m(\u001b[0m\u001b[1;34m'ScreenedDataDifferenceMS2.xlsx'\u001b[0m\u001b[1;33m,\u001b[0m\u001b[0mengine\u001b[0m\u001b[1;33m=\u001b[0m\u001b[1;34m'openpyxl'\u001b[0m\u001b[1;33m,\u001b[0m \u001b[0mmode\u001b[0m\u001b[1;33m=\u001b[0m\u001b[1;34m'a'\u001b[0m\u001b[1;33m)\u001b[0m \u001b[1;32mas\u001b[0m \u001b[0mwriter\u001b[0m\u001b[1;33m:\u001b[0m\u001b[1;33m\u001b[0m\u001b[1;33m\u001b[0m\u001b[0m\n\u001b[0m\u001b[0;32m      8\u001b[0m     \u001b[1;31m# Save the missing proteins data to the first sheet\u001b[0m\u001b[1;33m\u001b[0m\u001b[1;33m\u001b[0m\u001b[1;33m\u001b[0m\u001b[0m\n\u001b[0;32m      9\u001b[0m     \u001b[0mmissing_proteins\u001b[0m\u001b[1;33m.\u001b[0m\u001b[0mto_excel\u001b[0m\u001b[1;33m(\u001b[0m\u001b[0mwriter\u001b[0m\u001b[1;33m,\u001b[0m \u001b[0msheet_name\u001b[0m\u001b[1;33m=\u001b[0m\u001b[1;34m'Secondary Screening'\u001b[0m\u001b[1;33m,\u001b[0m \u001b[0mindex\u001b[0m\u001b[1;33m=\u001b[0m\u001b[1;32mFalse\u001b[0m\u001b[1;33m)\u001b[0m\u001b[1;33m\u001b[0m\u001b[1;33m\u001b[0m\u001b[0m\n",
      "\u001b[1;32mL:\\anaconda\\lib\\site-packages\\pandas\\io\\excel\\_openpyxl.py\u001b[0m in \u001b[0;36m__init__\u001b[1;34m(self, path, engine, mode, storage_options, **engine_kwargs)\u001b[0m\n\u001b[0;32m     30\u001b[0m         \u001b[1;32mfrom\u001b[0m \u001b[0mopenpyxl\u001b[0m\u001b[1;33m.\u001b[0m\u001b[0mworkbook\u001b[0m \u001b[1;32mimport\u001b[0m \u001b[0mWorkbook\u001b[0m\u001b[1;33m\u001b[0m\u001b[1;33m\u001b[0m\u001b[0m\n\u001b[0;32m     31\u001b[0m \u001b[1;33m\u001b[0m\u001b[0m\n\u001b[1;32m---> 32\u001b[1;33m         super().__init__(\n\u001b[0m\u001b[0;32m     33\u001b[0m             \u001b[0mpath\u001b[0m\u001b[1;33m,\u001b[0m \u001b[0mmode\u001b[0m\u001b[1;33m=\u001b[0m\u001b[0mmode\u001b[0m\u001b[1;33m,\u001b[0m \u001b[0mstorage_options\u001b[0m\u001b[1;33m=\u001b[0m\u001b[0mstorage_options\u001b[0m\u001b[1;33m,\u001b[0m \u001b[1;33m**\u001b[0m\u001b[0mengine_kwargs\u001b[0m\u001b[1;33m\u001b[0m\u001b[1;33m\u001b[0m\u001b[0m\n\u001b[0;32m     34\u001b[0m         )\n",
      "\u001b[1;32mL:\\anaconda\\lib\\site-packages\\pandas\\io\\excel\\_base.py\u001b[0m in \u001b[0;36m__init__\u001b[1;34m(self, path, engine, date_format, datetime_format, mode, storage_options, **engine_kwargs)\u001b[0m\n\u001b[0;32m    808\u001b[0m         \u001b[0mself\u001b[0m\u001b[1;33m.\u001b[0m\u001b[0mhandles\u001b[0m \u001b[1;33m=\u001b[0m \u001b[0mIOHandles\u001b[0m\u001b[1;33m(\u001b[0m\u001b[0mcast\u001b[0m\u001b[1;33m(\u001b[0m\u001b[0mBuffer\u001b[0m\u001b[1;33m,\u001b[0m \u001b[0mpath\u001b[0m\u001b[1;33m)\u001b[0m\u001b[1;33m,\u001b[0m \u001b[0mcompression\u001b[0m\u001b[1;33m=\u001b[0m\u001b[1;33m{\u001b[0m\u001b[1;34m\"copression\"\u001b[0m\u001b[1;33m:\u001b[0m \u001b[1;32mNone\u001b[0m\u001b[1;33m}\u001b[0m\u001b[1;33m)\u001b[0m\u001b[1;33m\u001b[0m\u001b[1;33m\u001b[0m\u001b[0m\n\u001b[0;32m    809\u001b[0m         \u001b[1;32mif\u001b[0m \u001b[1;32mnot\u001b[0m \u001b[0misinstance\u001b[0m\u001b[1;33m(\u001b[0m\u001b[0mpath\u001b[0m\u001b[1;33m,\u001b[0m \u001b[0mExcelWriter\u001b[0m\u001b[1;33m)\u001b[0m\u001b[1;33m:\u001b[0m\u001b[1;33m\u001b[0m\u001b[1;33m\u001b[0m\u001b[0m\n\u001b[1;32m--> 810\u001b[1;33m             self.handles = get_handle(\n\u001b[0m\u001b[0;32m    811\u001b[0m                 \u001b[0mpath\u001b[0m\u001b[1;33m,\u001b[0m \u001b[0mmode\u001b[0m\u001b[1;33m,\u001b[0m \u001b[0mstorage_options\u001b[0m\u001b[1;33m=\u001b[0m\u001b[0mstorage_options\u001b[0m\u001b[1;33m,\u001b[0m \u001b[0mis_text\u001b[0m\u001b[1;33m=\u001b[0m\u001b[1;32mFalse\u001b[0m\u001b[1;33m\u001b[0m\u001b[1;33m\u001b[0m\u001b[0m\n\u001b[0;32m    812\u001b[0m             )\n",
      "\u001b[1;32mL:\\anaconda\\lib\\site-packages\\pandas\\io\\common.py\u001b[0m in \u001b[0;36mget_handle\u001b[1;34m(path_or_buf, mode, encoding, compression, memory_map, is_text, errors, storage_options)\u001b[0m\n\u001b[0;32m    649\u001b[0m         \u001b[1;32melse\u001b[0m\u001b[1;33m:\u001b[0m\u001b[1;33m\u001b[0m\u001b[1;33m\u001b[0m\u001b[0m\n\u001b[0;32m    650\u001b[0m             \u001b[1;31m# Binary mode\u001b[0m\u001b[1;33m\u001b[0m\u001b[1;33m\u001b[0m\u001b[1;33m\u001b[0m\u001b[0m\n\u001b[1;32m--> 651\u001b[1;33m             \u001b[0mhandle\u001b[0m \u001b[1;33m=\u001b[0m \u001b[0mopen\u001b[0m\u001b[1;33m(\u001b[0m\u001b[0mhandle\u001b[0m\u001b[1;33m,\u001b[0m \u001b[0mioargs\u001b[0m\u001b[1;33m.\u001b[0m\u001b[0mmode\u001b[0m\u001b[1;33m)\u001b[0m\u001b[1;33m\u001b[0m\u001b[1;33m\u001b[0m\u001b[0m\n\u001b[0m\u001b[0;32m    652\u001b[0m         \u001b[0mhandles\u001b[0m\u001b[1;33m.\u001b[0m\u001b[0mappend\u001b[0m\u001b[1;33m(\u001b[0m\u001b[0mhandle\u001b[0m\u001b[1;33m)\u001b[0m\u001b[1;33m\u001b[0m\u001b[1;33m\u001b[0m\u001b[0m\n\u001b[0;32m    653\u001b[0m \u001b[1;33m\u001b[0m\u001b[0m\n",
      "\u001b[1;31mFileNotFoundError\u001b[0m: [Errno 2] No such file or directory: 'ScreenedDataDifferenceMS2.xlsx'"
     ]
    }
   ],
   "source": []
  },
  {
   "cell_type": "code",
   "execution_count": 65,
   "id": "799b1e7a",
   "metadata": {},
   "outputs": [
    {
     "data": {
      "text/html": [
       "<div>\n",
       "<style scoped>\n",
       "    .dataframe tbody tr th:only-of-type {\n",
       "        vertical-align: middle;\n",
       "    }\n",
       "\n",
       "    .dataframe tbody tr th {\n",
       "        vertical-align: top;\n",
       "    }\n",
       "\n",
       "    .dataframe thead th {\n",
       "        text-align: right;\n",
       "    }\n",
       "</style>\n",
       "<table border=\"1\" class=\"dataframe\">\n",
       "  <thead>\n",
       "    <tr style=\"text-align: right;\">\n",
       "      <th></th>\n",
       "      <th>entry</th>\n",
       "      <th>coverage</th>\n",
       "      <th>totalPeptides</th>\n",
       "      <th>Ratio Mw/Ipg</th>\n",
       "    </tr>\n",
       "  </thead>\n",
       "  <tbody>\n",
       "    <tr>\n",
       "      <th>1</th>\n",
       "      <td>ACTB_MOUSE</td>\n",
       "      <td>70.40</td>\n",
       "      <td>25</td>\n",
       "      <td>0.961538</td>\n",
       "    </tr>\n",
       "    <tr>\n",
       "      <th>2</th>\n",
       "      <td>ACTS_MOUSE</td>\n",
       "      <td>66.05</td>\n",
       "      <td>21</td>\n",
       "      <td>0.840000</td>\n",
       "    </tr>\n",
       "    <tr>\n",
       "      <th>4</th>\n",
       "      <td>ACTH_MOUSE</td>\n",
       "      <td>66.22</td>\n",
       "      <td>21</td>\n",
       "      <td>1.615385</td>\n",
       "    </tr>\n",
       "    <tr>\n",
       "      <th>5</th>\n",
       "      <td>ACTBL_MOUSE</td>\n",
       "      <td>32.18</td>\n",
       "      <td>11</td>\n",
       "      <td>1.222222</td>\n",
       "    </tr>\n",
       "    <tr>\n",
       "      <th>6</th>\n",
       "      <td>IGG2B_MOUSE</td>\n",
       "      <td>17.08</td>\n",
       "      <td>7</td>\n",
       "      <td>2.333333</td>\n",
       "    </tr>\n",
       "    <tr>\n",
       "      <th>...</th>\n",
       "      <td>...</td>\n",
       "      <td>...</td>\n",
       "      <td>...</td>\n",
       "      <td>...</td>\n",
       "    </tr>\n",
       "    <tr>\n",
       "      <th>1389</th>\n",
       "      <td>COL_MOUSE</td>\n",
       "      <td>7.08</td>\n",
       "      <td>1</td>\n",
       "      <td>1.000000</td>\n",
       "    </tr>\n",
       "    <tr>\n",
       "      <th>1390</th>\n",
       "      <td>BST2_MOUSE</td>\n",
       "      <td>5.23</td>\n",
       "      <td>1</td>\n",
       "      <td>1.000000</td>\n",
       "    </tr>\n",
       "    <tr>\n",
       "      <th>1395</th>\n",
       "      <td>S10AB_MOUSE</td>\n",
       "      <td>7.14</td>\n",
       "      <td>1</td>\n",
       "      <td>1.000000</td>\n",
       "    </tr>\n",
       "    <tr>\n",
       "      <th>1400</th>\n",
       "      <td>UBP19_MOUSE</td>\n",
       "      <td>0.88</td>\n",
       "      <td>1</td>\n",
       "      <td>0.500000</td>\n",
       "    </tr>\n",
       "    <tr>\n",
       "      <th>1401</th>\n",
       "      <td>DPH5_MOUSE</td>\n",
       "      <td>3.20</td>\n",
       "      <td>1</td>\n",
       "      <td>1.000000</td>\n",
       "    </tr>\n",
       "  </tbody>\n",
       "</table>\n",
       "<p>861 rows × 4 columns</p>\n",
       "</div>"
      ],
      "text/plain": [
       "            entry  coverage  totalPeptides  Ratio Mw/Ipg\n",
       "1      ACTB_MOUSE     70.40             25      0.961538\n",
       "2      ACTS_MOUSE     66.05             21      0.840000\n",
       "4      ACTH_MOUSE     66.22             21      1.615385\n",
       "5     ACTBL_MOUSE     32.18             11      1.222222\n",
       "6     IGG2B_MOUSE     17.08              7      2.333333\n",
       "...           ...       ...            ...           ...\n",
       "1389    COL_MOUSE      7.08              1      1.000000\n",
       "1390   BST2_MOUSE      5.23              1      1.000000\n",
       "1395  S10AB_MOUSE      7.14              1      1.000000\n",
       "1400  UBP19_MOUSE      0.88              1      0.500000\n",
       "1401   DPH5_MOUSE      3.20              1      1.000000\n",
       "\n",
       "[861 rows x 4 columns]"
      ]
     },
     "execution_count": 65,
     "metadata": {},
     "output_type": "execute_result"
    }
   ],
   "source": []
  },
  {
   "cell_type": "code",
   "execution_count": 66,
   "id": "00762b4b",
   "metadata": {},
   "outputs": [
    {
     "name": "stdout",
     "output_type": "stream",
     "text": [
      "ScreenedDataSimilarMS2.xlsx is Saved\n"
     ]
    }
   ],
   "source": [
    "#to save into new sheet of same excel file\n",
    "with pd.ExcelWriter('ScreenedDataSimilarMS2.xlsx',engine='openpyxl', mode='a') as writer:\n",
    "    # Save the missing proteins data to the first sheet\n",
    "    similar_proteins.to_excel(writer, sheet_name='Secondary Screening', index=False)\n",
    "    \n",
    "print(\"ScreenedDataSimilarMS2.xlsx is Saved\")"
   ]
  },
  {
   "cell_type": "markdown",
   "id": "07f50b0f",
   "metadata": {},
   "source": [
    "Notes:\n",
    "1)Sheet 1 : Primary Screening : -\n",
    "- Exclusive for difference Proteins Present in MWML2 | Total Peptide  :\n",
    "- \n",
    "- Similar Experiment group TotalPeptide count >= 10: refine\n",
    "- One file for  Present in both IgG/Mw | Ratio  \n",
    "- file name  e.g : will be Similar ML2 and Exclusive ML2\n",
    "- Coverage column needs to be there\n",
    "\n",
    "2) Sheet 2 : Secondary Screening :\n",
    "- male and female data comparasion . similar with similar and exlusive with exclusive .\n",
    "- Protein Present Male  [exlusive] | Common | Protein Present Present in Female only \n",
    "- No totalPeptide\n",
    "- Folder Name : Dataset 2 (lung) \n",
    "    - Part 1 \n",
    "    - Part 2 \n",
    "    - Final Screen Data \n",
    "- Dataset (Stomach)\n",
    "- Dataset 2 (Stomach) \n",
    "\n"
   ]
  },
  {
   "cell_type": "markdown",
   "id": "446d2c7c",
   "metadata": {},
   "source": [
    "## Secondary Screening "
   ]
  },
  {
   "cell_type": "code",
   "execution_count": null,
   "id": "58026a07",
   "metadata": {},
   "outputs": [],
   "source": []
  }
 ],
 "metadata": {
  "kernelspec": {
   "display_name": "Python 3",
   "language": "python",
   "name": "python3"
  },
  "language_info": {
   "codemirror_mode": {
    "name": "ipython",
    "version": 3
   },
   "file_extension": ".py",
   "mimetype": "text/x-python",
   "name": "python",
   "nbconvert_exporter": "python",
   "pygments_lexer": "ipython3",
   "version": "3.8.8"
  }
 },
 "nbformat": 4,
 "nbformat_minor": 5
}
