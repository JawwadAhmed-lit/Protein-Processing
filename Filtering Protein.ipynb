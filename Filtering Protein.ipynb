{
 "cells": [
  {
   "cell_type": "markdown",
   "id": "2e987414",
   "metadata": {},
   "source": [
    "## Protein Processing Filteration"
   ]
  },
  {
   "cell_type": "code",
   "execution_count": 34,
   "id": "bfe9664a",
   "metadata": {},
   "outputs": [],
   "source": [
    "import pandas as pd\n",
    "import numpy as np "
   ]
  },
  {
   "cell_type": "markdown",
   "id": "4f900851",
   "metadata": {},
   "source": [
    "### Files to read|"
   ]
  },
  {
   "cell_type": "code",
   "execution_count": 35,
   "id": "e80658ca",
   "metadata": {},
   "outputs": [
    {
     "name": "stdout",
     "output_type": "stream",
     "text": [
      "  accession        entry  coverage  proteinProbability  totalPeptides  \\\n",
      "0    P63268   ACTH_MOUSE     66.22                 1.0             22   \n",
      "1    P60710   ACTB_MOUSE     70.67                 1.0             26   \n",
      "2    P63260   ACTG_MOUSE     70.67                 1.0             25   \n",
      "3    P68134   ACTS_MOUSE     66.05                 1.0             22   \n",
      "4    Q8BFZ3  ACTBL_MOUSE     42.02                 1.0             13   \n",
      "\n",
      "   uniquePeptides  razorPeptides  totalSpectralCount  uniqueSpectralCount  \\\n",
      "0               1              9                 287                    6   \n",
      "1               2             26                 349                   34   \n",
      "2               1              1                 324                    9   \n",
      "3               1              3                 267                    5   \n",
      "4               5              5                 120                   15   \n",
      "\n",
      "   razorSpectralCount  ...  uniqueIntensity  razorIntensity  \\\n",
      "0                 145  ...     6.630628e+07    2.625550e+11   \n",
      "1                 349  ...     3.169380e+09    3.543991e+11   \n",
      "2                   9  ...     1.015134e+08    1.015134e+08   \n",
      "3                  17  ...     0.000000e+00    2.944545e+09   \n",
      "4                  15  ...     2.358190e+08    2.358190e+08   \n",
      "\n",
      "                                   razorAssignedMods  \\\n",
      "0  13M(15.9949),14M(15.9949),14M(15.9949),14M(15....   \n",
      "1  10M(15.9949),10M(15.9949),12M(15.9949),12M(15....   \n",
      "2      15M(15.9949), N-term(42.0106),N-term(42.0106)   \n",
      "3  14M(15.9949), 8M(15.9949),14M(15.9949), 8M(15....   \n",
      "4                          11M(15.9949),14M(15.9949)   \n",
      "\n",
      "  indistinguishableProteins    gene length  species detectablePeptides  \\\n",
      "0                       NaN   Actg2    376    mouse                 21   \n",
      "1                       NaN    Actb    375    mouse                 23   \n",
      "2                       NaN   Actg1    375    mouse                 23   \n",
      "3                       NaN   Acta1    377    mouse                 23   \n",
      "4                       NaN  Actbl2    376    mouse                 24   \n",
      "\n",
      "   detectableLength          iBAQ  \n",
      "0               308  1.618346e+10  \n",
      "1               343  1.540866e+10  \n",
      "2               343  1.540866e+10  \n",
      "3               345  1.477620e+10  \n",
      "4               344  1.066047e+10  \n",
      "\n",
      "[5 rows x 21 columns]\n",
      "  accession       entry  coverage  proteinProbability  totalPeptides  \\\n",
      "0    P01837  IGKC_MOUSE     59.81                 1.0              6   \n",
      "1    P60710  ACTB_MOUSE     70.40                 1.0             25   \n",
      "2    P68134  ACTS_MOUSE     66.05                 1.0             21   \n",
      "3    P01864  GCAB_MOUSE     21.79                 1.0              8   \n",
      "4    P63268  ACTH_MOUSE     66.22                 1.0             21   \n",
      "\n",
      "   uniquePeptides  razorPeptides  totalSpectralCount  uniqueSpectralCount  \\\n",
      "0               6              6                  60                   60   \n",
      "1               2             25                 318                   18   \n",
      "2               1              3                 275                    6   \n",
      "3               5              8                 110                   79   \n",
      "4               1              9                 285                    4   \n",
      "\n",
      "   razorSpectralCount  ...  uniqueIntensity  razorIntensity  \\\n",
      "0                  60  ...     1.081499e+11    1.081499e+11   \n",
      "1                 318  ...     8.751807e+08    4.085176e+11   \n",
      "2                  17  ...     0.000000e+00    2.051806e+10   \n",
      "3                 110  ...     6.885315e+10    2.061569e+11   \n",
      "4                 134  ...     5.646452e+07    2.372560e+11   \n",
      "\n",
      "                                   razorAssignedMods  \\\n",
      "0                            6M(15.9949),6M(15.9949)   \n",
      "1  10M(15.9949),10M(15.9949),12M(15.9949),13M(15....   \n",
      "2  14M(15.9949), 8M(15.9949),14M(15.9949), 8M(15....   \n",
      "3  13M(15.9949),13M(15.9949),14M(15.9949),14M(15....   \n",
      "4  13M(15.9949),14M(15.9949),14M(15.9949),14M(15....   \n",
      "\n",
      "  indistinguishableProteins   gene length  species detectablePeptides  \\\n",
      "0                       NaN   Igkc    107    mouse                  5   \n",
      "1                       NaN   Actb    375    mouse                 23   \n",
      "2                       NaN  Acta1    377    mouse                 23   \n",
      "3                       NaN    NaN    335    mouse                 12   \n",
      "4                       NaN  Actg2    376    mouse                 21   \n",
      "\n",
      "   detectableLength          iBAQ  \n",
      "0                53  2.162998e+10  \n",
      "1               343  1.776164e+10  \n",
      "2               345  1.772859e+10  \n",
      "3               184  1.717974e+10  \n",
      "4               308  1.632364e+10  \n",
      "\n",
      "[5 rows x 21 columns]\n",
      "<class 'pandas.core.frame.DataFrame'>\n",
      "RangeIndex: 1591 entries, 0 to 1590\n",
      "Data columns (total 21 columns):\n",
      " #   Column                     Non-Null Count  Dtype  \n",
      "---  ------                     --------------  -----  \n",
      " 0   accession                  1591 non-null   object \n",
      " 1   entry                      1591 non-null   object \n",
      " 2   coverage                   1591 non-null   float64\n",
      " 3   proteinProbability         1591 non-null   float64\n",
      " 4   totalPeptides              1591 non-null   int64  \n",
      " 5   uniquePeptides             1591 non-null   int64  \n",
      " 6   razorPeptides              1591 non-null   int64  \n",
      " 7   totalSpectralCount         1591 non-null   int64  \n",
      " 8   uniqueSpectralCount        1591 non-null   int64  \n",
      " 9   razorSpectralCount         1591 non-null   int64  \n",
      " 10  totalIntensity             1591 non-null   float64\n",
      " 11  uniqueIntensity            1591 non-null   float64\n",
      " 12  razorIntensity             1591 non-null   float64\n",
      " 13  razorAssignedMods          272 non-null    object \n",
      " 14  indistinguishableProteins  0 non-null      float64\n",
      " 15  gene                       1558 non-null   object \n",
      " 16  length                     1591 non-null   int64  \n",
      " 17  species                    1591 non-null   object \n",
      " 18  detectablePeptides         1591 non-null   int64  \n",
      " 19  detectableLength           1591 non-null   int64  \n",
      " 20  iBAQ                       1591 non-null   float64\n",
      "dtypes: float64(7), int64(9), object(5)\n",
      "memory usage: 261.1+ KB\n",
      "None\n"
     ]
    }
   ],
   "source": [
    "filesList = ['IPIgGMS2','IPMWMS2']\n",
    "# Read the control and experiment datasets\n",
    "control_data = pd.read_excel('IPIgGMS2.xls')\n",
    "experiment_data = pd.read_excel('IPMWMS2.xls')\n",
    "\n",
    "#Display first 5 rows to know if data is correctly loaded.\n",
    "print(control_data.head(5))\n",
    "print(experiment_data.head(5))\n",
    "print(control_data.info())"
   ]
  },
  {
   "cell_type": "markdown",
   "id": "c5e4063a",
   "metadata": {},
   "source": [
    "## Primary Screening"
   ]
  },
  {
   "cell_type": "code",
   "execution_count": 47,
   "id": "71fa1da8",
   "metadata": {},
   "outputs": [
    {
     "name": "stdout",
     "output_type": "stream",
     "text": [
      "            entry  coverage  totalPeptides\n",
      "14    KV5A5_MOUSE     32.03              3\n",
      "32    CALL3_MOUSE     22.15              3\n",
      "55    KV1A1_MOUSE     14.04              2\n",
      "63    TDIF2_MOUSE      1.06              1\n",
      "99    K1C13_MOUSE     14.42              9\n",
      "...           ...       ...            ...\n",
      "1399   NFIX_MOUSE      2.25              1\n",
      "1402   RT09_MOUSE      2.82              1\n",
      "1403   LEG7_MOUSE      5.88              1\n",
      "1404  CEP41_MOUSE      3.49              1\n",
      "1405  CAZA3_MOUSE      2.34              1\n",
      "\n",
      "[258 rows x 3 columns]\n",
      "            entry  coverage  totalPeptides\n",
      "0      IGKC_MOUSE     59.81              6\n",
      "1      ACTB_MOUSE     70.40             25\n",
      "2      ACTS_MOUSE     66.05             21\n",
      "3      GCAB_MOUSE     21.79              8\n",
      "4      ACTH_MOUSE     66.22             21\n",
      "...           ...       ...            ...\n",
      "1389    COL_MOUSE      7.08              1\n",
      "1390   BST2_MOUSE      5.23              1\n",
      "1395  S10AB_MOUSE      7.14              1\n",
      "1400  UBP19_MOUSE      0.88              1\n",
      "1401   DPH5_MOUSE      3.20              1\n",
      "\n",
      "[1148 rows x 3 columns]\n"
     ]
    }
   ],
   "source": [
    "# Extract the 'entry' column from each DataFrame\n",
    "control_subset = control_data[['entry', 'coverage', 'totalPeptides']]\n",
    "experiment_subset = experiment_data[['entry', 'coverage', 'totalPeptides']]\n",
    "\n",
    "#Difference\n",
    "# Find proteins present in the experiment dataset but not in the control dataset\n",
    "missing_proteins = experiment_proteins[~experiment_subset['entry'].isin(control_subset['entry'])]\n",
    "print(missing_proteins)\n",
    "\n",
    "#Similarity \n",
    "# Finding Proteins present in Both Data Set.\n",
    "similar_proteins = experiment_proteins[experiment_subset['entry'].isin(control_subset['entry'])]\n",
    "print(similar_proteins)"
   ]
  },
  {
   "cell_type": "markdown",
   "id": "c949d1f9",
   "metadata": {},
   "source": [
    "## Saving into two new Files on sheet 1"
   ]
  },
  {
   "cell_type": "code",
   "execution_count": 48,
   "id": "43003d17",
   "metadata": {},
   "outputs": [
    {
     "name": "stdout",
     "output_type": "stream",
     "text": [
      "ScreenedDataDifferenceMS2.xlsx is Saved\n",
      "ScreenedDataSimilarMS2.xlsx is saved.\n"
     ]
    }
   ],
   "source": [
    "# Create a Pandas Excel writer object\n",
    "with pd.ExcelWriter('ScreenedDataDifferenceMS2.xlsx') as writer:\n",
    "    # Save the missing proteins data to the first sheet\n",
    "    missing_proteins.to_excel(writer, sheet_name='Primary Screening', index=False)\n",
    "    \n",
    "print(\"ScreenedDataDifferenceMS2.xlsx is Saved\")\n",
    "\n",
    "# Create a Pandas Excel writer object\n",
    "with pd.ExcelWriter('ScreenedDataSimilarMS2.xlsx') as writer:\n",
    "    # Save the missing proteins data to the first sheet\n",
    "    similar_proteins.to_excel(writer, sheet_name='Primary Screening', index=False)\n",
    "\n",
    "print(\"ScreenedDataSimilarMS2.xlsx is saved.\")\n",
    "    \n"
   ]
  },
  {
   "cell_type": "markdown",
   "id": "d3f5eebe",
   "metadata": {},
   "source": [
    "## Secondary Screening"
   ]
  },
  {
   "cell_type": "code",
   "execution_count": 49,
   "id": "c0c82cb6",
   "metadata": {},
   "outputs": [
    {
     "name": "stdout",
     "output_type": "stream",
     "text": [
      "           entry  coverage  totalPeptides\n",
      "196   HG2A_MOUSE     36.92             10\n",
      "412  SEP11_MOUSE     28.54             11\n",
      "179  HSP72_MOUSE     17.85             10\n",
      "103  K1C17_MOUSE     16.40             10\n",
      "ScreenedDataDifferenceMS2.xlsx is Saved\n"
     ]
    }
   ],
   "source": [
    "# Total Peptides >= 10 in missing proteins \n",
    "tPCount = missing_proteins[missing_proteins['totalPeptides'] >=10]\n",
    "missing_proteins = tPCount.sort_values(by='coverage',ascending=False)\n",
    "print(missing_proteins)\n",
    "\n",
    "#to save into new sheet of same excel file\n",
    "with pd.ExcelWriter('ScreenedDataDifferenceMS2.xlsx',engine='openpyxl', mode='a') as writer:\n",
    "    # Save the missing proteins data to the first sheet\n",
    "    missing_proteins.to_excel(writer, sheet_name='Secondary Screening', index=False)\n",
    "    \n",
    "print(\"ScreenedDataDifferenceMS2.xlsx is Saved\")"
   ]
  },
  {
   "cell_type": "code",
   "execution_count": 65,
   "id": "799b1e7a",
   "metadata": {},
   "outputs": [
    {
     "data": {
      "text/html": [
       "<div>\n",
       "<style scoped>\n",
       "    .dataframe tbody tr th:only-of-type {\n",
       "        vertical-align: middle;\n",
       "    }\n",
       "\n",
       "    .dataframe tbody tr th {\n",
       "        vertical-align: top;\n",
       "    }\n",
       "\n",
       "    .dataframe thead th {\n",
       "        text-align: right;\n",
       "    }\n",
       "</style>\n",
       "<table border=\"1\" class=\"dataframe\">\n",
       "  <thead>\n",
       "    <tr style=\"text-align: right;\">\n",
       "      <th></th>\n",
       "      <th>entry</th>\n",
       "      <th>coverage</th>\n",
       "      <th>totalPeptides</th>\n",
       "      <th>Ratio Mw/Ipg</th>\n",
       "    </tr>\n",
       "  </thead>\n",
       "  <tbody>\n",
       "    <tr>\n",
       "      <th>1</th>\n",
       "      <td>ACTB_MOUSE</td>\n",
       "      <td>70.40</td>\n",
       "      <td>25</td>\n",
       "      <td>0.961538</td>\n",
       "    </tr>\n",
       "    <tr>\n",
       "      <th>2</th>\n",
       "      <td>ACTS_MOUSE</td>\n",
       "      <td>66.05</td>\n",
       "      <td>21</td>\n",
       "      <td>0.840000</td>\n",
       "    </tr>\n",
       "    <tr>\n",
       "      <th>4</th>\n",
       "      <td>ACTH_MOUSE</td>\n",
       "      <td>66.22</td>\n",
       "      <td>21</td>\n",
       "      <td>1.615385</td>\n",
       "    </tr>\n",
       "    <tr>\n",
       "      <th>5</th>\n",
       "      <td>ACTBL_MOUSE</td>\n",
       "      <td>32.18</td>\n",
       "      <td>11</td>\n",
       "      <td>1.222222</td>\n",
       "    </tr>\n",
       "    <tr>\n",
       "      <th>6</th>\n",
       "      <td>IGG2B_MOUSE</td>\n",
       "      <td>17.08</td>\n",
       "      <td>7</td>\n",
       "      <td>2.333333</td>\n",
       "    </tr>\n",
       "    <tr>\n",
       "      <th>...</th>\n",
       "      <td>...</td>\n",
       "      <td>...</td>\n",
       "      <td>...</td>\n",
       "      <td>...</td>\n",
       "    </tr>\n",
       "    <tr>\n",
       "      <th>1389</th>\n",
       "      <td>COL_MOUSE</td>\n",
       "      <td>7.08</td>\n",
       "      <td>1</td>\n",
       "      <td>1.000000</td>\n",
       "    </tr>\n",
       "    <tr>\n",
       "      <th>1390</th>\n",
       "      <td>BST2_MOUSE</td>\n",
       "      <td>5.23</td>\n",
       "      <td>1</td>\n",
       "      <td>1.000000</td>\n",
       "    </tr>\n",
       "    <tr>\n",
       "      <th>1395</th>\n",
       "      <td>S10AB_MOUSE</td>\n",
       "      <td>7.14</td>\n",
       "      <td>1</td>\n",
       "      <td>1.000000</td>\n",
       "    </tr>\n",
       "    <tr>\n",
       "      <th>1400</th>\n",
       "      <td>UBP19_MOUSE</td>\n",
       "      <td>0.88</td>\n",
       "      <td>1</td>\n",
       "      <td>0.500000</td>\n",
       "    </tr>\n",
       "    <tr>\n",
       "      <th>1401</th>\n",
       "      <td>DPH5_MOUSE</td>\n",
       "      <td>3.20</td>\n",
       "      <td>1</td>\n",
       "      <td>1.000000</td>\n",
       "    </tr>\n",
       "  </tbody>\n",
       "</table>\n",
       "<p>861 rows × 4 columns</p>\n",
       "</div>"
      ],
      "text/plain": [
       "            entry  coverage  totalPeptides  Ratio Mw/Ipg\n",
       "1      ACTB_MOUSE     70.40             25      0.961538\n",
       "2      ACTS_MOUSE     66.05             21      0.840000\n",
       "4      ACTH_MOUSE     66.22             21      1.615385\n",
       "5     ACTBL_MOUSE     32.18             11      1.222222\n",
       "6     IGG2B_MOUSE     17.08              7      2.333333\n",
       "...           ...       ...            ...           ...\n",
       "1389    COL_MOUSE      7.08              1      1.000000\n",
       "1390   BST2_MOUSE      5.23              1      1.000000\n",
       "1395  S10AB_MOUSE      7.14              1      1.000000\n",
       "1400  UBP19_MOUSE      0.88              1      0.500000\n",
       "1401   DPH5_MOUSE      3.20              1      1.000000\n",
       "\n",
       "[861 rows x 4 columns]"
      ]
     },
     "execution_count": 65,
     "metadata": {},
     "output_type": "execute_result"
    }
   ],
   "source": [
    "#Ratio For Similar Proteins 1: 2 Control : Experiment\n",
    "# Create a copy of the DataFrame\n",
    "similar_proteins_copy = similar_proteins.copy()\n",
    "\n",
    "# Modify the copy\n",
    "similar_proteins_copy['Ratio Mw/Ipg'] = experiment_data['totalPeptides'] / control_data['totalPeptides']\n",
    "similar_proteins_copy[similar_proteins_copy['Ratio Mw/Ipg'] >=0.5]\n",
    "# # Assign the modified copy back to the original DataFrame\n",
    "similar_proteins = similar_proteins_copy\n",
    "similar_proteins"
   ]
  },
  {
   "cell_type": "code",
   "execution_count": 66,
   "id": "00762b4b",
   "metadata": {},
   "outputs": [
    {
     "name": "stdout",
     "output_type": "stream",
     "text": [
      "ScreenedDataSimilarMS2.xlsx is Saved\n"
     ]
    }
   ],
   "source": [
    "#to save into new sheet of same excel file\n",
    "with pd.ExcelWriter('ScreenedDataSimilarMS2.xlsx',engine='openpyxl', mode='a') as writer:\n",
    "    # Save the missing proteins data to the first sheet\n",
    "    similar_proteins.to_excel(writer, sheet_name='Secondary Screening', index=False)\n",
    "    \n",
    "print(\"ScreenedDataSimilarMS2.xlsx is Saved\")"
   ]
  },
  {
   "cell_type": "code",
   "execution_count": 67,
   "id": "5eb5b0ce",
   "metadata": {},
   "outputs": [
    {
     "data": {
      "text/plain": [
       "1.0476190476190477"
      ]
     },
     "execution_count": 67,
     "metadata": {},
     "output_type": "execute_result"
    }
   ],
   "source": [
    "22/21"
   ]
  },
  {
   "cell_type": "code",
   "execution_count": null,
   "id": "94c96b69",
   "metadata": {},
   "outputs": [],
   "source": []
  }
 ],
 "metadata": {
  "kernelspec": {
   "display_name": "Python 3",
   "language": "python",
   "name": "python3"
  },
  "language_info": {
   "codemirror_mode": {
    "name": "ipython",
    "version": 3
   },
   "file_extension": ".py",
   "mimetype": "text/x-python",
   "name": "python",
   "nbconvert_exporter": "python",
   "pygments_lexer": "ipython3",
   "version": "3.8.8"
  }
 },
 "nbformat": 4,
 "nbformat_minor": 5
}
